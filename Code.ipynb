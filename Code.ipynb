{
  "cells": [
    {
      "cell_type": "markdown",
      "metadata": {
        "id": "3YVjchsYPgYV"
      },
      "source": [
        "**Authentic News Platform Generator**\n",
        "\n",
        "Our code runs in 3 sets:\n",
        "1. Trend Extraction using Tweepy\n",
        "2. News Extraction using the trend as keyword\n",
        "3. News Text Authentication using Machine Learning"
      ]
    },
    {
      "cell_type": "markdown",
      "metadata": {
        "id": "0DxZevnrUtHs"
      },
      "source": [
        "1. Trend Extraction using tweepy\n",
        "Tweepy is an open source Python package that gives you a very convenient way to access the Twitter API with Python. Tweepy includes a set of classes and methods that represent Twitter's models and API endpoints, and it transparently handles various implementation details, such as: Data encoding and decoding.\n",
        "\n",
        "Please note: In order to use tweepy, you just have Elevated Twitter Developer Access. For this, there is an elaborate application process which requires upto 2 weeks to get approved. \n",
        "Once you get access, you can use your bearer tokens for freely accessing your concerned dataset which in our case is Top 50 Trends. "
      ]
    },
    {
      "cell_type": "code",
      "execution_count": null,
      "metadata": {
        "colab": {
          "background_save": true,
          "base_uri": "https://localhost:8080/",
          "height": 886
        },
        "id": "w6-gxjDfwLv5",
        "outputId": "871df435-90a8-4830-d91d-baf7449874b7"
      },
      "outputs": [
        {
          "name": "stdout",
          "output_type": "stream",
          "text": [
            "Looking in indexes: https://pypi.org/simple, https://us-python.pkg.dev/colab-wheels/public/simple/\n",
            "Collecting pygooglenews\n",
            "  Downloading pygooglenews-0.1.2-py3-none-any.whl (10 kB)\n",
            "Collecting dateparser<0.8.0,>=0.7.6\n",
            "  Downloading dateparser-0.7.6-py2.py3-none-any.whl (362 kB)\n",
            "\u001b[K     |████████████████████████████████| 362 kB 5.1 MB/s \n",
            "\u001b[?25hCollecting requests<3.0.0,>=2.24.0\n",
            "  Downloading requests-2.28.1-py3-none-any.whl (62 kB)\n",
            "\u001b[K     |████████████████████████████████| 62 kB 1.2 MB/s \n",
            "\u001b[?25hCollecting beautifulsoup4<5.0.0,>=4.9.1\n",
            "  Downloading beautifulsoup4-4.11.1-py3-none-any.whl (128 kB)\n",
            "\u001b[K     |████████████████████████████████| 128 kB 49.3 MB/s \n",
            "\u001b[?25hCollecting feedparser<6.0.0,>=5.2.1\n",
            "  Downloading feedparser-5.2.1.zip (1.2 MB)\n",
            "\u001b[K     |████████████████████████████████| 1.2 MB 41.0 MB/s \n",
            "\u001b[?25hCollecting soupsieve>1.2\n",
            "  Downloading soupsieve-2.3.2.post1-py3-none-any.whl (37 kB)\n",
            "Requirement already satisfied: pytz in /usr/local/lib/python3.7/dist-packages (from dateparser<0.8.0,>=0.7.6->pygooglenews) (2022.6)\n",
            "Requirement already satisfied: regex!=2019.02.19 in /usr/local/lib/python3.7/dist-packages (from dateparser<0.8.0,>=0.7.6->pygooglenews) (2022.6.2)\n",
            "Requirement already satisfied: tzlocal in /usr/local/lib/python3.7/dist-packages (from dateparser<0.8.0,>=0.7.6->pygooglenews) (1.5.1)\n",
            "Requirement already satisfied: python-dateutil in /usr/local/lib/python3.7/dist-packages (from dateparser<0.8.0,>=0.7.6->pygooglenews) (2.8.2)\n",
            "Requirement already satisfied: urllib3<1.27,>=1.21.1 in /usr/local/lib/python3.7/dist-packages (from requests<3.0.0,>=2.24.0->pygooglenews) (1.24.3)\n",
            "Requirement already satisfied: idna<4,>=2.5 in /usr/local/lib/python3.7/dist-packages (from requests<3.0.0,>=2.24.0->pygooglenews) (2.10)\n",
            "Requirement already satisfied: certifi>=2017.4.17 in /usr/local/lib/python3.7/dist-packages (from requests<3.0.0,>=2.24.0->pygooglenews) (2022.9.24)\n",
            "Requirement already satisfied: charset-normalizer<3,>=2 in /usr/local/lib/python3.7/dist-packages (from requests<3.0.0,>=2.24.0->pygooglenews) (2.1.1)\n",
            "Requirement already satisfied: six>=1.5 in /usr/local/lib/python3.7/dist-packages (from python-dateutil->dateparser<0.8.0,>=0.7.6->pygooglenews) (1.15.0)\n",
            "Building wheels for collected packages: feedparser\n",
            "  Building wheel for feedparser (setup.py) ... \u001b[?25l\u001b[?25hdone\n",
            "  Created wheel for feedparser: filename=feedparser-5.2.1-py3-none-any.whl size=44951 sha256=d8acccc781c7c26265cfeb7fb069489085b23102820477afc53f2020b72faf8a\n",
            "  Stored in directory: /root/.cache/pip/wheels/29/bf/46/b4a597d435d3aee6c2fa583824897336d65abf13ebe3405b70\n",
            "Successfully built feedparser\n",
            "Installing collected packages: soupsieve, requests, feedparser, dateparser, beautifulsoup4, pygooglenews\n",
            "  Attempting uninstall: requests\n",
            "    Found existing installation: requests 2.23.0\n",
            "    Uninstalling requests-2.23.0:\n",
            "      Successfully uninstalled requests-2.23.0\n",
            "  Attempting uninstall: beautifulsoup4\n",
            "    Found existing installation: beautifulsoup4 4.6.3\n",
            "    Uninstalling beautifulsoup4-4.6.3:\n",
            "      Successfully uninstalled beautifulsoup4-4.6.3\n",
            "Successfully installed beautifulsoup4-4.11.1 dateparser-0.7.6 feedparser-5.2.1 pygooglenews-0.1.2 requests-2.28.1 soupsieve-2.3.2.post1\n",
            "Looking in indexes: https://pypi.org/simple, https://us-python.pkg.dev/colab-wheels/public/simple/\n",
            "Requirement already satisfied: beautifulsoup4 in /usr/local/lib/python3.7/dist-packages (4.11.1)\n",
            "Requirement already satisfied: soupsieve>1.2 in /usr/local/lib/python3.7/dist-packages (from beautifulsoup4) (2.3.2.post1)\n"
          ]
        }
      ],
      "source": [
        "!pip install pygooglenews\n",
        "!pip install beautifulsoup4"
      ]
    },
    {
      "cell_type": "code",
      "execution_count": null,
      "metadata": {
        "colab": {
          "base_uri": "https://localhost:8080/"
        },
        "id": "J7aZZW89IDBO",
        "outputId": "3f31585f-190c-4a4e-d160-c2656c9467e1"
      },
      "outputs": [
        {
          "name": "stdout",
          "output_type": "stream",
          "text": [
            "Looking in indexes: https://pypi.org/simple, https://us-python.pkg.dev/colab-wheels/public/simple/\n",
            "Collecting newspaper3k\n",
            "  Downloading newspaper3k-0.2.8-py3-none-any.whl (211 kB)\n",
            "\u001b[K     |████████████████████████████████| 211 kB 4.0 MB/s \n",
            "\u001b[?25hCollecting tldextract>=2.0.1\n",
            "  Downloading tldextract-3.4.0-py3-none-any.whl (93 kB)\n",
            "\u001b[K     |████████████████████████████████| 93 kB 1.8 MB/s \n",
            "\u001b[?25hRequirement already satisfied: PyYAML>=3.11 in /usr/local/lib/python3.7/dist-packages (from newspaper3k) (6.0)\n",
            "Requirement already satisfied: nltk>=3.2.1 in /usr/local/lib/python3.7/dist-packages (from newspaper3k) (3.7)\n",
            "Requirement already satisfied: feedparser>=5.2.1 in /usr/local/lib/python3.7/dist-packages (from newspaper3k) (5.2.1)\n",
            "Collecting tinysegmenter==0.3\n",
            "  Downloading tinysegmenter-0.3.tar.gz (16 kB)\n",
            "Collecting jieba3k>=0.35.1\n",
            "  Downloading jieba3k-0.35.1.zip (7.4 MB)\n",
            "\u001b[K     |████████████████████████████████| 7.4 MB 14.2 MB/s \n",
            "\u001b[?25hRequirement already satisfied: requests>=2.10.0 in /usr/local/lib/python3.7/dist-packages (from newspaper3k) (2.28.1)\n",
            "Requirement already satisfied: Pillow>=3.3.0 in /usr/local/lib/python3.7/dist-packages (from newspaper3k) (7.1.2)\n",
            "Requirement already satisfied: lxml>=3.6.0 in /usr/local/lib/python3.7/dist-packages (from newspaper3k) (4.9.1)\n",
            "Requirement already satisfied: beautifulsoup4>=4.4.1 in /usr/local/lib/python3.7/dist-packages (from newspaper3k) (4.11.1)\n",
            "Requirement already satisfied: python-dateutil>=2.5.3 in /usr/local/lib/python3.7/dist-packages (from newspaper3k) (2.8.2)\n",
            "Collecting feedfinder2>=0.0.4\n",
            "  Downloading feedfinder2-0.0.4.tar.gz (3.3 kB)\n",
            "Collecting cssselect>=0.9.2\n",
            "  Downloading cssselect-1.2.0-py2.py3-none-any.whl (18 kB)\n",
            "Requirement already satisfied: soupsieve>1.2 in /usr/local/lib/python3.7/dist-packages (from beautifulsoup4>=4.4.1->newspaper3k) (2.3.2.post1)\n",
            "Requirement already satisfied: six in /usr/local/lib/python3.7/dist-packages (from feedfinder2>=0.0.4->newspaper3k) (1.15.0)\n",
            "Requirement already satisfied: tqdm in /usr/local/lib/python3.7/dist-packages (from nltk>=3.2.1->newspaper3k) (4.64.1)\n",
            "Requirement already satisfied: joblib in /usr/local/lib/python3.7/dist-packages (from nltk>=3.2.1->newspaper3k) (1.2.0)\n",
            "Requirement already satisfied: click in /usr/local/lib/python3.7/dist-packages (from nltk>=3.2.1->newspaper3k) (7.1.2)\n",
            "Requirement already satisfied: regex>=2021.8.3 in /usr/local/lib/python3.7/dist-packages (from nltk>=3.2.1->newspaper3k) (2022.6.2)\n",
            "Requirement already satisfied: urllib3<1.27,>=1.21.1 in /usr/local/lib/python3.7/dist-packages (from requests>=2.10.0->newspaper3k) (1.24.3)\n",
            "Requirement already satisfied: charset-normalizer<3,>=2 in /usr/local/lib/python3.7/dist-packages (from requests>=2.10.0->newspaper3k) (2.1.1)\n",
            "Requirement already satisfied: certifi>=2017.4.17 in /usr/local/lib/python3.7/dist-packages (from requests>=2.10.0->newspaper3k) (2022.9.24)\n",
            "Requirement already satisfied: idna<4,>=2.5 in /usr/local/lib/python3.7/dist-packages (from requests>=2.10.0->newspaper3k) (2.10)\n",
            "Requirement already satisfied: filelock>=3.0.8 in /usr/local/lib/python3.7/dist-packages (from tldextract>=2.0.1->newspaper3k) (3.8.0)\n",
            "Collecting requests-file>=1.4\n",
            "  Downloading requests_file-1.5.1-py2.py3-none-any.whl (3.7 kB)\n",
            "Building wheels for collected packages: tinysegmenter, feedfinder2, jieba3k\n",
            "  Building wheel for tinysegmenter (setup.py) ... \u001b[?25l\u001b[?25hdone\n",
            "  Created wheel for tinysegmenter: filename=tinysegmenter-0.3-py3-none-any.whl size=13552 sha256=e6a8b3d58d645a980b9c221e1c9aaaceeaee97dc0d26d70448a799c12854ef1e\n",
            "  Stored in directory: /root/.cache/pip/wheels/df/67/41/faca10fa501ca010be41b49d40360c2959e1c4f09bcbfa37fa\n",
            "  Building wheel for feedfinder2 (setup.py) ... \u001b[?25l\u001b[?25hdone\n",
            "  Created wheel for feedfinder2: filename=feedfinder2-0.0.4-py3-none-any.whl size=3354 sha256=83028c2a21a87dfb180e941d9e5fd41a02e27309d33e757dd2b35fde7c246164\n",
            "  Stored in directory: /root/.cache/pip/wheels/7f/d4/8f/6e2ca54744c9d7292d88ddb8d42876bcdab5e6d84a21c10346\n",
            "  Building wheel for jieba3k (setup.py) ... \u001b[?25l\u001b[?25hdone\n",
            "  Created wheel for jieba3k: filename=jieba3k-0.35.1-py3-none-any.whl size=7398405 sha256=46d5c669810fe16ca3f77e4e8b3f1702fb664d181a2f726371b28f248468901f\n",
            "  Stored in directory: /root/.cache/pip/wheels/4c/91/46/3c208287b726df325a5979574324878b679116e4baae1af3c3\n",
            "Successfully built tinysegmenter feedfinder2 jieba3k\n",
            "Installing collected packages: requests-file, tldextract, tinysegmenter, jieba3k, feedfinder2, cssselect, newspaper3k\n",
            "Successfully installed cssselect-1.2.0 feedfinder2-0.0.4 jieba3k-0.35.1 newspaper3k-0.2.8 requests-file-1.5.1 tinysegmenter-0.3 tldextract-3.4.0\n"
          ]
        }
      ],
      "source": [
        "!pip install newspaper3k"
      ]
    },
    {
      "cell_type": "code",
      "execution_count": null,
      "metadata": {
        "colab": {
          "base_uri": "https://localhost:8080/"
        },
        "id": "Tk8BLwYhYsBj",
        "outputId": "148e8f3f-5fe9-491f-da4d-0d6fdd51ffca"
      },
      "outputs": [
        {
          "output_type": "stream",
          "name": "stdout",
          "text": [
            "50\n",
            "{'name': '#GivingTuesday', 'url': 'http://twitter.com/search?q=%23GivingTuesday', 'promoted_content': None, 'query': '%23GivingTuesday', 'tweet_volume': 184625}\n",
            "['#GivingTuesday', 'Klay', 'Louisville', 'Mario', '#QueenSugar', 'Nintendo', '#WWENXT', 'Peach', 'Panda', 'Luigi', 'Oath Keepers', 'Randle', '#USMNT', 'Bellarmine', 'Respect for Marriage Act', 'Wiggins', 'Iran', '#MakeAMovieChristmas', 'Kuminga', 'Stewart Rhodes', 'Bowser', 'Netherlands', 'Taylor Hall', 'Pulisic', 'McConnell', 'Smash', 'Casey Anthony', 'Donkey Kong', 'Dutch', 'Wheeler', 'Jack Black', 'Marquette', 'Anthony Lamb', 'Charlie Day', 'Boo Corrigan', 'Darla', 'Ralph Angel', 'Obergefell', 'Seditious Conspiracy', 'VGBC', 'Dijak', 'Liver King', 'Tua vs Herbert', 'The Senate', 'Rainbow Road', 'Calipari', 'Joe Girard', 'Judah Mintz', 'Shelby Miller', '12 Republicans']\n"
          ]
        }
      ],
      "source": [
        "import tweepy\n",
        "\n",
        "#Tokens Generated for Twitter API\n",
        "apikey = '0udfbvMcxXr7JBQdOIvvG3CVU'\n",
        "apisecretkey = 'Bax2Uo5vXPnXG8wPOeGwP0Q8vh3cZSRiBYj61t7iUS6HBDTkDj'\n",
        "accesskey = '1586524368007532544-7FK18bZ0lYZQcVxjvLkT0FrzhhPsJL'\n",
        "accesssecret = 'BFsE945AE1gWkGhHdajZp8iYI4T7IjjyhlJA7NRuK20dD'\n",
        "auth = tweepy.OAuthHandler(apikey,apisecretkey)\n",
        "auth.set_access_token(accesskey,accesssecret)\n",
        "api = tweepy.API(auth)\n",
        "\n",
        "# WOEID = Where On Earth ID; used to identify the location\n",
        "WOEID = 2358820\n",
        "\n",
        "top_trends = api.trends_place(WOEID)\n",
        "top_trends = top_trends[0].get(\"trends\")\n",
        "\n",
        "#Top 50 trends are being extracted\n",
        "print(len(top_trends))\n",
        "#Trend #1\n",
        "print(top_trends[0])\n",
        "\n",
        "lookup = []\n",
        "for i in top_trends:\n",
        "  lookup.append(i.get(\"name\"))\n",
        "\n",
        "print(lookup)"
      ]
    },
    {
      "cell_type": "markdown",
      "metadata": {
        "id": "NEdWpjLGVWqJ"
      },
      "source": [
        "**2. News Extraction using the trend as keyword**\n",
        "For this purpose we are using pygooglenews and beautifulsoup libraries.\n",
        "\n",
        "a. pygooglenews: A Python wrapper of the Google News RSS feed. It can be used for extracting top stories, topic-related news feeds, geolocation news feed, and an extensive full-text search feed.\n",
        "\n",
        "b. Beautiful Soup is a Python library for pulling data out of HTML and XML files. It works with your favorite parser to provide idiomatic ways of navigating, searching, and modifying the parse tree. It commonly saves programmers hours or days of work."
      ]
    },
    {
      "cell_type": "markdown",
      "metadata": {
        "id": "WUE3kTPRo9vK"
      },
      "source": [
        "To get the access to all the functions, we first have to initiate the GoogleNews class.It has 2 required variables: lang and country for which we choose English (en) and United States (US) respectively.\n",
        "\n",
        "Then we initialize an empty dictionary which stores the url of the 5 most relevant articles associated with the trend keyword. For this purpose we use gn.search function. Google News search itself is a complex function that has inherited some features from the standard Google Search. The returned object contains feed and entries list of articles found with all data parsed."
      ]
    },
    {
      "cell_type": "code",
      "execution_count": null,
      "metadata": {
        "colab": {
          "base_uri": "https://localhost:8080/"
        },
        "id": "RBILjFT0dL0K",
        "outputId": "c3881571-d72f-415b-b84f-b3f9cad9cabb"
      },
      "outputs": [
        {
          "output_type": "stream",
          "name": "stdout",
          "text": [
            "{'#GivingTuesday': {'https://news.google.com/__i/rss/rd/articles/CBMiaGh0dHBzOi8vcmljaG1vbmRzdGFuZGFyZC5jb20vcmljaG1vbmQvMjAyMi8xMS8yOS9jaGV2cm9uLWRvbmF0ZXMtMTAway10by0xNS1sb2NhbC1vcmdzLW9uLWdpdmluZ3R1ZXNkYXkv0gFsaHR0cHM6Ly9yaWNobW9uZHN0YW5kYXJkLmNvbS9yaWNobW9uZC8yMDIyLzExLzI5L2NoZXZyb24tZG9uYXRlcy0xMDBrLXRvLTE1LWxvY2FsLW9yZ3Mtb24tZ2l2aW5ndHVlc2RheS9hbXAv?oc=5', 'https://news.google.com/__i/rss/rd/articles/CBMiN2h0dHBzOi8vd3d3LmRpc3RyYWN0aWZ5LmNvbS9wL2hpc3Rvcnktb2YtZ2l2aW5nLXR1ZXNkYXnSAQA?oc=5', 'https://news.google.com/__i/rss/rd/articles/CBMifmh0dHBzOi8vd2hhdi5uZXQvMjAyMi8xMS8yOS9naXZlLWEtZ2lmdC1pbi1zdXBwb3J0LW9mLWxvY2FsLW5ld3MtYW5kLXByb2dyYW1zLW9uLWdpdmluZ3R1ZXNkYXktZWFybHktY29udHJhY3RvcnMtb2ZmZXJzLW1hdGNoL9IBAA?oc=5', 'https://news.google.com/__i/rss/rd/articles/CBMiWGh0dHBzOi8vY2l2aWxlYXRzLmNvbS8yMDIyLzExLzI5LzIyLXJlYXNvbnMtdG8tc3VwcG9ydC1jaXZpbC1lYXRzLW9uLWdpdmluZ3R1ZXNkYXktMjAyMi_SAQA?oc=5', 'https://news.google.com/__i/rss/rd/articles/CBMiVGh0dHBzOi8vd3d3LmdyZWVubWF0dGVycy5jb20vY29tbXVuaXR5L2dpdmluZy10dWVzZGF5LW1hdGNoaW5nLWZ1bmRzLWFuaW1hbC1zaGVsdGVyc9IBAA?oc=5'}, 'Klay': {'https://news.google.com/__i/rss/rd/articles/CBMidWh0dHBzOi8vd3d3Lm5iY3Nwb3J0cy5jb20vYmF5YXJlYS93YXJyaW9ycy9rbGF5LXRob21wc29uLWhpbGFyaW91c2x5LWNsYWltcy1oZS1wcmlvcml0aXplcy1maW5hbmNlcy1vdmVyLWNlbGVicmF0aW9uc9IBeWh0dHBzOi8vd3d3Lm5iY3Nwb3J0cy5jb20vYmF5YXJlYS93YXJyaW9ycy9rbGF5LXRob21wc29uLWhpbGFyaW91c2x5LWNsYWltcy1oZS1wcmlvcml0aXplcy1maW5hbmNlcy1vdmVyLWNlbGVicmF0aW9ucz9hbXA?oc=5', 'https://news.google.com/__i/rss/rd/articles/CBMiW2h0dHBzOi8vd3d3LmdvbGRlbnN0YXRlb2ZtaW5kLmNvbS8yMDIyLzExLzI4LzIzNDgzNjQ3L3dhcnJpb3JzLWtsYXktdGhvbXBzb24tZHJheW1vbmQtZ3JlZW7SAQA?oc=5', 'https://news.google.com/__i/rss/rd/articles/CBMibWh0dHBzOi8vd3d3Lm5iY3Nwb3J0cy5jb20vYmF5YXJlYS93YXJyaW9ycy9jaGFybGVzLWJhcmtsZXktdHJpcGxlcy1kb3duLWtsYXktdGhvbXBzb24tY2FyZWVyLWRlY2xpbmUtY29tbWVudHPSAXFodHRwczovL3d3dy5uYmNzcG9ydHMuY29tL2JheWFyZWEvd2FycmlvcnMvY2hhcmxlcy1iYXJrbGV5LXRyaXBsZXMtZG93bi1rbGF5LXRob21wc29uLWNhcmVlci1kZWNsaW5lLWNvbW1lbnRzP2FtcA?oc=5', 'https://news.google.com/__i/rss/rd/articles/CBMijQFodHRwczovL3d3dy5jYnNzcG9ydHMuY29tL25iYS9uZXdzL3dhcnJpb3JzLXNsb3dseS1yZWdhaW5pbmctY2hhbXBpb25zaGlwLWZvcm0tdGhhbmtzLXRvLWtsYXktdGhvbXBzb25zLXBhdGllbmNlLW5ldy1yb2xlLWZvci1kcmF5bW9uZC1ncmVlbi_SAQA?oc=5', 'https://news.google.com/__i/rss/rd/articles/CBMiT2h0dHBzOi8vd3d3LmVzcG4uY29tL25iYS9zdG9yeS9fL2lkLzM1MDI3NjA2L2luc2lkZS1rbGF5LXRob21wc29uLWVwaWMtY29tZWJhY2vSAVxodHRwczovL3d3dy5lc3BuLmNvbS9uYmEvc3RvcnkvXy9pZC8zNTAyNzYwNi9pbnNpZGUta2xheS10aG9tcHNvbi1lcGljLWNvbWViYWNrP3BsYXRmb3JtPWFtcA?oc=5'}, 'Louisville': {'https://news.google.com/__i/rss/rd/articles/CBMigQFodHRwczovL2xvbmd3b29kbGFuY2Vycy5jb20vbmV3cy8yMDIyLzExLzI1L3dvbWVucy1iYXNrZXRiYWxsLWxvbmd3b29kLWZhbGxzLTEwMC0zNy10by0xMC1sb3Vpc3ZpbGxlLWluLW9wZW5pbmctZ2FtZS1vZi1yb2FkLXRyaXDSAQA?oc=5', 'https://news.google.com/__i/rss/rd/articles/CBMimwFodHRwczovL3d3dy53ZHJiLmNvbS9pbi1kZXB0aC91bml2ZXJzaXR5LW9mLWxvdWlzdmlsbGUtcGxhbnMtdG8tbmFtZS1uZXh0LXByZXNpZGVudC13ZWRuZXNkYXktc291cmNlcy1zYXkvYXJ0aWNsZV84ZmFmODE5NC03MDA1LTExZWQtYjdhOS1hZmQyZjkwNDk2YTIuaHRtbNIBAA?oc=5', 'https://news.google.com/__i/rss/rd/articles/CBMigAFodHRwczovL3d3dy53ZHJiLmNvbS9uZXdzL2J1c2luZXNzL2J1YmJhcy0zMy10by1vcGVuLTItbG9jYXRpb25zLWluLWxvdWlzdmlsbGUvYXJ0aWNsZV80MDJlNzkwNC02Zjg4LTExZWQtODczYi00M2M3NmYzNzAyYmYuaHRtbNIBAA?oc=5', 'https://news.google.com/__i/rss/rd/articles/CBMiY2h0dHBzOi8vd3d3LnNpLmNvbS9jb2xsZWdlL2xvdWlzdmlsbGUvZm9vdGJhbGwvZmluYWwtdGhvdWdodHMtb2JzZXJ2YXRpb25zLTIwMjItZ2FtZS0xMi12cy1rZW50dWNredIBaGh0dHBzOi8vd3d3LnNpLmNvbS9jb2xsZWdlL2xvdWlzdmlsbGUvLmFtcC9mb290YmFsbC9maW5hbC10aG91Z2h0cy1vYnNlcnZhdGlvbnMtMjAyMi1nYW1lLTEyLXZzLWtlbnR1Y2t5?oc=5', 'https://news.google.com/__i/rss/rd/articles/CBMilQFodHRwczovL3d3dy53ZHJiLmNvbS9uZXdzL21pc3NpbmctbG91aXN2aWxsZS1wb2xpY2UtYXNraW5nLWZvci1wdWJsaWNzLWhlbHAtdG8tZmluZC00NS15ZWFyLW9sZC1tYW4vYXJ0aWNsZV9iNzc3NDQ1OC03MDBjLTExZWQtODJkOC1lYjNlMmMxOWVkZjYuaHRtbNIBAA?oc=5'}, 'Mario': {'https://news.google.com/__i/rss/rd/articles/CBMiTWh0dHBzOi8vZm9ydHVuZS5jb20vMjAyMi8xMS8wOS9zdXBlci1tYXJpby1tb3ZpZS1rZXktdG8tbmludGVuZG8tZ3Jvd3RoLXBsYW4v0gEA?oc=5', 'https://news.google.com/__i/rss/rd/articles/CBMiRWh0dHBzOi8vdGVjaGNydW5jaC5jb20vMjAyMi8xMS8yOS90aGUtc3VwZXItbWFyaW8tYnJvcy1tb3ZpZS10cmFpbGVyL9IBAA?oc=5', 'https://news.google.com/__i/rss/rd/articles/CBMiNWh0dHBzOi8vdGhlZGlyZWN0LmNvbS9nYW1pbmcvbWFyaW8tbW92aWUtcGVhY2gtYm93c2Vy0gEA?oc=5', 'https://news.google.com/__i/rss/rd/articles/CBMiSGh0dHBzOi8vd3d3LmludmVyc2UuY29tL2dhbWluZy9zdXBlci1tYXJpby1icm9zLTEtbmludGVuZG8tc3dpdGNoLW9ubGluZdIBAA?oc=5', 'https://news.google.com/__i/rss/rd/articles/CBMiO2h0dHBzOi8vc3R5bGVjYXN0ZXIuY29tL25pbnRlbmRvLXN3aXRjaC1nYW1lcy1jeWJlci1tb25kYXkv0gEA?oc=5'}, '#QueenSugar': {'https://news.google.com/__i/rss/rd/articles/CBMiM2h0dHBzOi8vdGltZS5jb20vNjIzNTU4Ny9xdWVlbi1zdWdhci1maW5hbGUtbGVnYWN5L9IBAA?oc=5', 'https://news.google.com/__i/rss/rd/articles/CBMiK2h0dHBzOi8vd3d3LnByaW1ldGltZXIuY29tL3R2dG9kYXkvMjAyMjExMjnSAQA?oc=5', 'https://news.google.com/__i/rss/rd/articles/CBMiZ2h0dHBzOi8vZGVhZGxpbmUuY29tLzIwMjIvMTEvYXZhLWR1dmVybmF5LXF1ZWVuLXN1Z2FyLWZpbmFsZS1sZWFybmluZy1ndWlkZS1hcnJheS1pbnRlcnZpZXctMTIzNTE4MDQxMy_SAQA?oc=5', 'https://news.google.com/__i/rss/rd/articles/CBMiWmh0dHBzOi8vd3d3LnR2ZmFuYXRpYy5jb20vMjAyMi8xMS9xdWVlbi1zdWdhci1zZWFzb24tNy1lcGlzb2RlLTEyLXJldmlldy1iZS1hbmQtYmUtYmV0dGVyL9IBAA?oc=5', 'https://news.google.com/__i/rss/rd/articles/CBMiVmh0dHBzOi8vY2hpY2Fnb2NydXNhZGVyLmNvbS9vd25zLXF1ZWVuLXN1Z2FyLWlzLXB1bGxpbmctbm8tcHVuY2hlcy1pbi1pdHMtbGFzdC1zZWFzb24v0gEA?oc=5'}, 'Nintendo': {'https://news.google.com/__i/rss/rd/articles/CBMidmh0dHBzOi8vd3d3LmV0b25saW5lLmNvbS90aGVzZS1uaW50ZW5kby1zd2l0Y2gtY3liZXItbW9uZGF5LWRlYWxzLWFyZS1zdGlsbC1hdmFpbGFibGUtdG9kYXktc2F2ZS1vbi1jb25zb2xlcy1hbmQtZ2FtZXPSAQA?oc=5', 'https://news.google.com/__i/rss/rd/articles/CBMicWh0dHBzOi8vd3d3Lm5pbnRlbmRvbGlmZS5jb20vbmV3cy8yMDIyLzExL3RoZS1uaW50ZW5kby1zd2l0Y2gtd2FzLW9uZS1vZi10aGUtdG9wLWJsYWNrLWZyaWRheS1wdXJjaGFzZXMtdGhpcy15ZWFy0gEA?oc=5', 'https://news.google.com/__i/rss/rd/articles/CBMiT2h0dHBzOi8vd3d3Lm5pbnRlbmRvLmNvbS93aGF0c25ldy9mcmVlLW5pbnRlbmRvLXN3aXRjaC1zcG9ydHMtdXBkYXRlLWFkZHMtZ29sZi_SAQA?oc=5', 'https://news.google.com/__i/rss/rd/articles/CBMiU2h0dHBzOi8va290YWt1LmNvbS9uaW50ZW5kby1zbWFzaC13b3JsZC10b3VyLWZnYy1zaHV0LWRvd24tcGFuZGEtZXNwb3J0cy0xODQ5ODMzODY30gEA?oc=5', 'https://news.google.com/__i/rss/rd/articles/CBMiXWh0dHBzOi8vd3d3LnRoZXZlcmdlLmNvbS8yMDIyLzExLzI4LzIzNDIzMjUxL242NC1jb250cm9sbGVyLW5pbnRlbmRvLXN3aXRjaC1yZXN0b2NrLWRlYWwtc2FsZdIBAA?oc=5'}, '#WWENXT': {'https://news.google.com/__i/rss/rd/articles/CBMiUGh0dHBzOi8vNDExbWFuaWEuY29tL3dyZXN0bGluZy9kaWphay1zZXQtZm9yLWluLXJpbmctcmV0dXJuLW9uLXRvbmlnaHRzLXd3ZS1ueHQv0gEA?oc=5', 'https://news.google.com/__i/rss/rd/articles/CBMimAFodHRwczovL2RrbmF0aW9uLmRyYWZ0a2luZ3MuY29tLzIwMjIvMTEvMjkvMjM0ODMxMzIvd3dlLW54dC1saXZlLW9ubGluZS1zdHJlYW0tc3RhcnQtdGltZS10di1jaGFubmVsLXNjaGVkdWxlLXByZXZpZXctYnJlYWtrZXItY3Jld3MtZGlqYWstd2VzLWxlZS1wZXJletIBpQFodHRwczovL2RrbmF0aW9uLmRyYWZ0a2luZ3MuY29tL3BsYXRmb3JtL2FtcC8yMDIyLzExLzI5LzIzNDgzMTMyL3d3ZS1ueHQtbGl2ZS1vbmxpbmUtc3RyZWFtLXN0YXJ0LXRpbWUtdHYtY2hhbm5lbC1zY2hlZHVsZS1wcmV2aWV3LWJyZWFra2VyLWNyZXdzLWRpamFrLXdlcy1sZWUtcGVyZXo?oc=5', 'https://news.google.com/__i/rss/rd/articles/CBMiK2h0dHBzOi8vd3d3Lnd3ZS5jb20vc2hvd3Mvd3dlbnh0LzExLTAxLTIwMjLSAQA?oc=5', 'https://news.google.com/__i/rss/rd/articles/CBMia2h0dHBzOi8vd3Jlc3RsaW5naGVhZGxpbmVzLmNvbS90cmlwbGUtaC1yZXBvcnRlZGx5LXNlZXMtYmlnLW1haW4tcm9zdGVyLWZ1dHVyZXMtZm9yLXR3by13d2Utbnh0LXN1cGVyc3RhcnMv0gEA?oc=5', 'https://news.google.com/__i/rss/rd/articles/CBMiSWh0dHBzOi8vdGpyd3Jlc3RsaW5nLm5ldC9uZXdzL3NlYW4teC1wYWMtd2FsdG1hbi1qb2luaW5nLWxlZ2VuZHMtd3dlLW54dC_SAQA?oc=5'}, 'Peach': {'https://news.google.com/__i/rss/rd/articles/CBMiamh0dHBzOi8vd2R3bnQuY29tLzIwMjIvMTEvZmxvcmFsLXBlYWNoLXdhbHQtZGlzbmV5LXdvcmxkLXNwaXJpdC1qZXJzZXktbm93LWF2YWlsYWJsZS1hdC13YWx0LWRpc25leS13b3JsZC_SAQA?oc=5', 'https://news.google.com/__i/rss/rd/articles/CBMiN2h0dHBzOi8vd3d3LmJiYy5jb20vbmV3cy91ay1lbmdsYW5kLXNocm9wc2hpcmUtNjM3OTI2NDLSATtodHRwczovL3d3dy5iYmMuY29tL25ld3MvdWstZW5nbGFuZC1zaHJvcHNoaXJlLTYzNzkyNjQyLmFtcA?oc=5', 'https://news.google.com/__i/rss/rd/articles/CBMiZGh0dHBzOi8vdmFyaWV0eS5jb20vMjAyMi9maWxtL25ld3Mvc3VwZXItbWFyaW8tYnJvcy10cmFpbGVyLXBlYWNoLWRvbmtleS1rb25nLW1hcmlvLWthcnQtMTIzNTQ0NDY4Ny_SAQA?oc=5', 'https://news.google.com/__i/rss/rd/articles/CBMimQFodHRwczovL3d3dy4xM3dtYXouY29tL2FydGljbGUvbmV3cy9sb2NhbC9wZWFjaC1zY2hvb2xzLWV4aGliaXQtc2hvd2Nhc2VzLWVkdWNhdGlvbmFsLWFydGlmYWN0cy1vZi1jb3VudHlzLXBhc3QtMy85My1iZjI2ZmZiZS1jZGYyLTQ1ZDgtYjU1Ni0xN2U1MDE1ZDFhOTHSAZ0BaHR0cHM6Ly93d3cuMTN3bWF6LmNvbS9hbXAvYXJ0aWNsZS9uZXdzL2xvY2FsL3BlYWNoLXNjaG9vbHMtZXhoaWJpdC1zaG93Y2FzZXMtZWR1Y2F0aW9uYWwtYXJ0aWZhY3RzLW9mLWNvdW50eXMtcGFzdC0zLzkzLWJmMjZmZmJlLWNkZjItNDVkOC1iNTU2LTE3ZTUwMTVkMWE5MQ?oc=5', 'https://news.google.com/__i/rss/rd/articles/CBMiUmh0dHBzOi8vd3d3LnRoZWtpdGNobi5jb20vcGVhY2gtY29iYmxlci1jaW5uYW1vbi1yb2xsLWNvbmVzLXJlY2lwZS1yZXZpZXctMjM0ODI0MzTSAQA?oc=5'}, 'Panda': {'https://news.google.com/__i/rss/rd/articles/CBMiTGh0dHBzOi8vd3d3LmJvcmVkcGFuZGEuY29tL3N0YXJidWNrcy1iYXJpc3RhLWNyeWluZy1vdmVyd29ya2VkLTgtaG91ci1zaGlmdC_SAQA?oc=5', 'https://news.google.com/__i/rss/rd/articles/CBMiTmh0dHBzOi8vd3d3Lndhc2hpbmd0b25wb3N0LmNvbS93b3JsZC8yMDIyLzExLzIwL2dpYW50LXBhbmRhLXRhaXdhbi10dWFuLWNoaW5hL9IBAA?oc=5', 'https://news.google.com/__i/rss/rd/articles/CBMid2h0dHBzOi8vd3d3LmRleGVydG8uY29tL3NtYXNoL25pbnRlbmRvLXNsYW1tZWQtZm9yLWZvcmNpbmctc21hc2gtd29ybGQtdG91ci0yMDIyLXRvLWNhbmNlbC13ZWVrcy1iZWZvcmUtZmluYWxzLTE5OTg5OTMv0gEA?oc=5', 'https://news.google.com/__i/rss/rd/articles/CBMibmh0dHBzOi8vbmV3cy5tb25nYWJheS5jb20vMjAyMi8xMS9uZXctc3RhbmRhcmQtYnJpbmdzLWJlc3QtcHJhY3RpY2VzLXRvLWJlYXItaW4tbmVwYWxzLXJlZC1wYW5kYS1jb25zZXJ2YXRpb24v0gEA?oc=5', 'https://news.google.com/__i/rss/rd/articles/CBMiQ2h0dHBzOi8vd3d3LnRoZWdhbWVyLmNvbS93b3ctcGFjaWZpc3QtcGFuZGEtZHJhZ29uZmxpZ2h0LWxldmVsLWNhcC_SAQA?oc=5'}, 'Luigi': {'https://news.google.com/__i/rss/rd/articles/CBMiY2h0dHBzOi8vYmxlZWRpbmdjb29sLmNvbS9tb3ZpZXMvc3VwZXItbWFyaW8tYnJvcy1vZy1sdWlnaS1qb2huLWxlZ3VpemFtby1ub3QtZmVlbGluZy1hbmltYXRlZC1jYXN0L9IBAA?oc=5', 'https://news.google.com/__i/rss/rd/articles/CBMiYGh0dHBzOi8vd3d3Lm5ld3N3ZWVrLmNvbS9jaGFybGllLWRheS1wcmFpc2VkLWx1aWdpLXZvaWNlLWNocmlzLXByYXR0LXNsYW1tZWQtc3VwZXItbWFyaW8tMTc2MzM0MdIBAA?oc=5', 'https://news.google.com/__i/rss/rd/articles/CBMiRmh0dHBzOi8vOXRvNXRveXMuY29tLzIwMjIvMTEvMjkvYmVzdC1nYW1lLWRlYWxzLXplbGRhLXNreXdhcmQtc3dvcmQtNS_SAQA?oc=5', 'https://news.google.com/__i/rss/rd/articles/CBMid2h0dHBzOi8va25pZ2h0ZWRnZW1lZGlhLmNvbS8yMDIyLzExL3RyYWlsZXItbWFyaW8tYW5kLWx1aWdpLXBhcnRpY2lwYXRlLWluLWthcnQtcmFjaW5nLXRocm91Z2hvdXQtdGhlLW11c2hyb29tLWtpbmdkb20v0gEA?oc=5', 'https://news.google.com/__i/rss/rd/articles/CBMiV2h0dHBzOi8vbnlwb3N0LmNvbS8yMDIyLzExLzI2L2x1aWdpLXJvbnNpc3ZhbGxlLXdhcy1saWtlLXRoZS1mb3JyZXN0LWd1bXAtb2YtdGhlLW1hZmlhL9IBAA?oc=5'}, 'Oath Keepers': {'https://news.google.com/__i/rss/rd/articles/CBMiemh0dHBzOi8vd3d3LmZveDV2ZWdhcy5jb20vMjAyMi8xMS8yOS9vYXRoLWtlZXBlcnMtZm91bmRlci1zdGV3YXJ0LXJob2Rlcy1jb252aWN0ZWQtc2VkaXRpb3VzLWNvbnNwaXJhY3ktbWFqb3ItamFuLTYtdHJpYWwv0gGJAWh0dHBzOi8vd3d3LmZveDV2ZWdhcy5jb20vMjAyMi8xMS8yOS9vYXRoLWtlZXBlcnMtZm91bmRlci1zdGV3YXJ0LXJob2Rlcy1jb252aWN0ZWQtc2VkaXRpb3VzLWNvbnNwaXJhY3ktbWFqb3ItamFuLTYtdHJpYWwvP291dHB1dFR5cGU9YW1w?oc=5', 'https://news.google.com/__i/rss/rd/articles/CBMiZ2h0dHBzOi8vd3d3LmNubi5jb20vMjAyMi8xMS8xOC9wb2xpdGljcy9vYXRoLWtlZXBlcnMtc2VkaXRpb3VzLWNvbnNwaXJhY3ktdHJpYWwtd2hhdC10by1rbm93L2luZGV4Lmh0bWzSAWtodHRwczovL2FtcC5jbm4uY29tL2Nubi8yMDIyLzExLzE4L3BvbGl0aWNzL29hdGgta2VlcGVycy1zZWRpdGlvdXMtY29uc3BpcmFjeS10cmlhbC13aGF0LXRvLWtub3cvaW5kZXguaHRtbA?oc=5', 'https://news.google.com/__i/rss/rd/articles/CBMiVGh0dHBzOi8vd3d3LmNubi5jb20vMjAyMi8xMS8wNC9wb2xpdGljcy9zdGV3YXJ0LXJob2Rlcy1vYXRoLWtlZXBlcnMtdHJpYWwvaW5kZXguaHRtbNIBWGh0dHBzOi8vYW1wLmNubi5jb20vY25uLzIwMjIvMTEvMDQvcG9saXRpY3Mvc3Rld2FydC1yaG9kZXMtb2F0aC1rZWVwZXJzLXRyaWFsL2luZGV4Lmh0bWw?oc=5', 'https://news.google.com/__i/rss/rd/articles/CBMiVmh0dHBzOi8vd3d3LmNubi5jb20vMjAyMi8xMS8wMS9wb2xpdGljcy9vYXRoLWtlZXBlcnMtb2xpdmUtZ2FyZGVuLWphbnVhcnktNi9pbmRleC5odG1s0gFaaHR0cHM6Ly9hbXAuY25uLmNvbS9jbm4vMjAyMi8xMS8wMS9wb2xpdGljcy9vYXRoLWtlZXBlcnMtb2xpdmUtZ2FyZGVuLWphbnVhcnktNi9pbmRleC5odG1s?oc=5', 'https://news.google.com/__i/rss/rd/articles/CBMic2h0dHBzOi8vd3d3LndzaXUub3JnLzIwMjItMTEtMjkvb2F0aC1rZWVwZXJzLWZvdW5kZXItaGFzLWJlZW4tY29udmljdGVkLW9mLXNlZGl0aW91cy1jb25zcGlyYWN5LWluLXRoZS1qYW4tNi1hdHRhY2vSAQA?oc=5'}, 'Randle': {'https://news.google.com/__i/rss/rd/articles/CBMiZmh0dHBzOi8vZW1waXJlc3BvcnRzbWVkaWEuY29tL25ldy15b3JrLWtuaWNrcy9yZXBvcnQta25pY2tzLWp1bGl1cy1yYW5kbGUtaGFzLWluY3JlYXNlLWluLXRyYWRlLXZhbHVlL9IBAA?oc=5', 'https://news.google.com/__i/rss/rd/articles/CBMiS2h0dHBzOi8vdGhlYXRobGV0aWMuY29tLzM5MDY1NDcvMjAyMi8xMS8xNy9qdWxpdXMtcmFuZGxlLW9iaS10b3BwaW4ta25pY2tzL9IBUWh0dHBzOi8vdGhlYXRobGV0aWMuY29tLzM5MDY1NDcvMjAyMi8xMS8xNy9qdWxpdXMtcmFuZGxlLW9iaS10b3BwaW4ta25pY2tzLz9hbXA9MQ?oc=5', 'https://news.google.com/__i/rss/rd/articles/CBMiR2h0dHBzOi8vd3d3LmFtbnkuY29tL3Nwb3J0cy9kby10aGUta25pY2tzLWhhdmUtYS1qdWxpdXMtcmFuZGxlLXByb2JsZW0v0gEA?oc=5', 'https://news.google.com/__i/rss/rd/articles/CBMiaGh0dHBzOi8vd3d3LnNpLmNvbS9leHRyYS1tdXN0YXJkLzIwMjIvMTEvMjQvanVsaXVzLXJhbmRsZS1iZXRzLXJlcG9ydGVyLWdpYW50cy1jb3dib3lzLXRoYW5rc2dpdmluZy1nYW1l0gFtaHR0cHM6Ly93d3cuc2kuY29tLy5hbXAvZXh0cmEtbXVzdGFyZC8yMDIyLzExLzI0L2p1bGl1cy1yYW5kbGUtYmV0cy1yZXBvcnRlci1naWFudHMtY293Ym95cy10aGFua3NnaXZpbmctZ2FtZQ?oc=5', 'https://news.google.com/__i/rss/rd/articles/CBMibGh0dHBzOi8vZW1waXJlc3BvcnRzbWVkaWEuY29tL25ldy15b3JrLWtuaWNrcy9iaXJ0aGRheS1ib3ktanVsaXVzLXJhbmRsZS1vbi1rbmlja3MtbW9yYWxlLWktdGhpbmstd2VyZS1maW5lL9IBAA?oc=5'}, '#USMNT': {'https://news.google.com/__i/rss/rd/articles/CBMiYmh0dHBzOi8vd3d3Lm1sc3NvY2Nlci5jb20vbmV3cy91LXMtYS11LXMtYS1wcmVzaWRlbnQtam9lLWJpZGVuLXJlYWN0cy10by11c21udC1zLXdvcmxkLWN1cC12aWN0b3J50gEA?oc=5', 'https://news.google.com/__i/rss/rd/articles/CBMiM2h0dHBzOi8vd3d3LmF4aW9zLmNvbS8yMDIyLzExLzMwL3VzLXFhdGFyLWFybXMtc2FsZdIBAA?oc=5', 'https://news.google.com/__i/rss/rd/articles/CBMiaGh0dHBzOi8vd3d3LnVzc29jY2VyLmNvbS9zdG9yaWVzLzIwMjIvMTEvcml2YWxyeS1yZW5ld2VkLXVzbW50LWFuZC1lbmdsYW5kLXNldC1mb3ItdGhpcmQtd29ybGQtY3VwLWNsYXNo0gEA?oc=5', 'https://news.google.com/__i/rss/rd/articles/CBMiVGh0dHBzOi8vd3d3LmNubi5jb20vMjAyMi8xMS8yOS9mb290YmFsbC9pcmFuLXVzYS1xYXRhci13b3JsZC1jdXAtc3B0LWludGwvaW5kZXguaHRtbNIBWGh0dHBzOi8vYW1wLmNubi5jb20vY25uLzIwMjIvMTEvMjkvZm9vdGJhbGwvaXJhbi11c2EtcWF0YXItd29ybGQtY3VwLXNwdC1pbnRsL2luZGV4Lmh0bWw?oc=5', 'https://news.google.com/__i/rss/rd/articles/CBMiT2h0dHBzOi8vd3d3LnNibmF0aW9uLmNvbS8yMDIyLzExLzI5LzIzNDg0ODI4L2NocmlzdGlhbi1wdWxpc2ljLXdvcmxkLWN1cC13aW5uZXLSAQA?oc=5'}, 'Bellarmine': {'https://news.google.com/__i/rss/rd/articles/CBMiggFodHRwczovL3d3dy5vbjMuY29tL3RlYW1zL2tlbnR1Y2t5LXdpbGRjYXRzL25ld3MvZmFjdC1zaGVldC1nZXQtdG8ta25vdy1iZWxsYXJtaW5lLXRoZS1iZXN0LWNvbGxlZ2UtYmFza2V0YmFsbC10ZWFtLWluLWxvdWlzdmlsbGUv0gEA?oc=5', 'https://news.google.com/__i/rss/rd/articles/CBMidWh0dHBzOi8vYXRobGV0aWNzLmJlbGxhcm1pbmUuZWR1L25ld3MvMjAyMi8xMS8yNy9tZW5zLWJhc2tldGJhbGwta25pZ2h0cy1zaG93LWZpZ2h0LWJ1dC1mYWxsLXRvLW5vLTE5LXVjbGEtODEtNjAuYXNweNIBAA?oc=5', 'https://news.google.com/__i/rss/rd/articles/CBMifGh0dHBzOi8vYXRobGV0aWNzLmJlbGxhcm1pbmUuZWR1L25ld3MvMjAyMi8xMS8yOC93b21lbnMtYmFza2V0YmFsbC1tZXJrbGUtZWFybnMtc2Vjb25kLWFzdW4tZnJlc2htYW4tb2YtdGhlLXdlZWstbGF1cmVsLmFzcHjSAQA?oc=5', 'https://news.google.com/__i/rss/rd/articles/CBMieGh0dHBzOi8vYXRobGV0aWNzLmJlbGxhcm1pbmUuZWR1L25ld3MvMjAyMi8xMS8yOS93cmVzdGxpbmctc2V0LWZvci1ob21lLW9wZW5lci12ZXJzdXMtbGluZGVud29vZC1vbi13ZWRuZXNkYXktbmlnaHQuYXNweNIBAA?oc=5', 'https://news.google.com/__i/rss/rd/articles/CBMiYmh0dHBzOi8vd255dC5jb20vYXNzb2NpYXRlZC1wcmVzcy9hcC1zcG9ydHMvcmVldmVzLXNjb3Jlcy0xOC1uby0xOS1rZW50dWNreS10b3BzLWJlbGxhcm1pbmUtNjAtNDEv0gEA?oc=5'}, 'Respect for Marriage Act': {'https://news.google.com/__i/rss/rd/articles/CBMiRGh0dHBzOi8vanVkaWNpYXJ5LmhvdXNlLmdvdi9uZXdzL2RvY3VtZW50c2luZ2xlLmFzcHg_RG9jdW1lbnRJRD01MDcw0gEA?oc=5', 'https://news.google.com/__i/rss/rd/articles/CBMiXmh0dHBzOi8vd3d3LndidHcuY29tL25leHN0YXItbWVkaWEtd2lyZS93aGF0LXJpZ2h0cy1kb2VzLXRoZS1yZXNwZWN0LWZvci1tYXJyaWFnZS1hY3QtcHJvdGVjdC_SAWJodHRwczovL3d3dy53YnR3LmNvbS9uZXhzdGFyLW1lZGlhLXdpcmUvd2hhdC1yaWdodHMtZG9lcy10aGUtcmVzcGVjdC1mb3ItbWFycmlhZ2UtYWN0LXByb3RlY3QvYW1wLw?oc=5', 'https://news.google.com/__i/rss/rd/articles/CBMiWGh0dHBzOi8vd3d3LmNubi5jb20vMjAyMi8xMS8yOS9wb2xpdGljcy9yZXNwZWN0LWZvci1tYXJyaWFnZS1hY3Qtd2hhdC1tYXR0ZXJzL2luZGV4Lmh0bWzSAVxodHRwczovL2FtcC5jbm4uY29tL2Nubi8yMDIyLzExLzI5L3BvbGl0aWNzL3Jlc3BlY3QtZm9yLW1hcnJpYWdlLWFjdC13aGF0LW1hdHRlcnMvaW5kZXguaHRtbA?oc=5', 'https://news.google.com/__i/rss/rd/articles/CBMiQWh0dHBzOi8vd3d3LmdsYWQub3JnL3Bvc3Qvc2VuYXRlLXBhc3Nlcy1yZXNwZWN0LWZvci1tYXJyaWFnZS1hY3Qv0gEA?oc=5', 'https://news.google.com/__i/rss/rd/articles/CBMiY2h0dHBzOi8vd3d3LmtiaWEub3JnLzIwMjItMTEtMjkvdGhlLXJlc3BlY3QtZm9yLW1hcnJpYWdlLWFjdC1pcy1leHBlY3RlZC10by1iZS1zaWduZWQtaW50by1sYXctc29vbtIBAA?oc=5'}, 'Wiggins': {'https://news.google.com/__i/rss/rd/articles/CBMib2h0dHBzOi8vd3d3LnN0YXJ0cmlidW5lLmNvbS9taW5uZXNvdGEtdGltYmVyd29sdmVzLXRyYWRlLWdvbGRlbi1zdGF0ZS1kYW5nZWxvLXJ1c3NlbGwtYW5kcmV3LXdpZ2dpbnMvNjAwMjMwMDk0L9IBAA?oc=5', 'https://news.google.com/__i/rss/rd/articles/CBMiamh0dHBzOi8vd3d3Lm5iY3Nwb3J0cy5jb20vYmF5YXJlYS93YXJyaW9ycy9hbmRyZXctd2lnZ2lucy0zLXBvaW50LXNob290aW5nLWV2b2x1dGlvbi1zdGFyLXN0ZXBoLWN1cnJ5LXNheXPSAW5odHRwczovL3d3dy5uYmNzcG9ydHMuY29tL2JheWFyZWEvd2FycmlvcnMvYW5kcmV3LXdpZ2dpbnMtMy1wb2ludC1zaG9vdGluZy1ldm9sdXRpb24tc3Rhci1zdGVwaC1jdXJyeS1zYXlzP2FtcA?oc=5', 'https://news.google.com/__i/rss/rd/articles/CBMiQ2h0dHBzOi8vd3d3Lm5iYS5jb20vd2FycmlvcnMvdmlkZW9zL3doYXQtYS1kdW5rLWJ5LWFuZHJldy13aWdnaW5zLTfSAQA?oc=5', 'https://news.google.com/__i/rss/rd/articles/CBMieWh0dHBzOi8vY2x1dGNocG9pbnRzLmNvbS93YXJyaW9ycy1uZXdzLXN0ZXBoZW4tY3Vycnkta2xheS10aG9tcHNvbi1hbmRyZXctd2lnZ2lucy1zZXQtdW5yZWFsLTNwdC1yZWNvcmQtbmV2ZXItc2Vlbi1iZWZvcmXSAQA?oc=5', 'https://news.google.com/__i/rss/rd/articles/CBMiaGh0dHBzOi8vd3d3Lm5iY3Nwb3J0cy5jb20vYmF5YXJlYS93YXJyaW9ycy93YXJyaW9ycy1hbmRyZXctd2lnZ2lucy1lbWVyZ2VzLXNoYWRvd3MtaHVnZS1nYW1lLXZzLWNsaXBwZXJz0gFsaHR0cHM6Ly93d3cubmJjc3BvcnRzLmNvbS9iYXlhcmVhL3dhcnJpb3JzL3dhcnJpb3JzLWFuZHJldy13aWdnaW5zLWVtZXJnZXMtc2hhZG93cy1odWdlLWdhbWUtdnMtY2xpcHBlcnM_YW1w?oc=5'}, 'Iran': {'https://news.google.com/__i/rss/rd/articles/CBMiRmh0dHBzOi8vd3d3LmF4aW9zLmNvbS8yMDIyLzExLzI5L2lyYW4tdGFyZ2V0LWlzcmFlbGktdG91cmlzdHMtdGhhaWxhbmTSAQA?oc=5', 'https://news.google.com/__i/rss/rd/articles/CBMicGh0dHBzOi8vd3d3LnRoZWd1YXJkaWFuLmNvbS9mb290YmFsbC9saXZlLzIwMjIvbm92LzI5L2lyYW4tdi11c2Etd29ybGQtY3VwLTIwMjItZ3JvdXAtYi11c21udC1saXZlLXNjb3JlLXVwZGF0ZXPSAXBodHRwczovL2FtcC50aGVndWFyZGlhbi5jb20vZm9vdGJhbGwvbGl2ZS8yMDIyL25vdi8yOS9pcmFuLXYtdXNhLXdvcmxkLWN1cC0yMDIyLWdyb3VwLWItdXNtbnQtbGl2ZS1zY29yZS11cGRhdGVz?oc=5', 'https://news.google.com/__i/rss/rd/articles/CBMiV2h0dHBzOi8vd3d3LmNubi5jb20vMjAyMi8xMS8yOS9mb290YmFsbC9pcmFuLWRlYXRoLXRocmVhdHMtZm9vdGJhbGwtaW50bC1zcHQvaW5kZXguaHRtbNIBW2h0dHBzOi8vYW1wLmNubi5jb20vY25uLzIwMjIvMTEvMjkvZm9vdGJhbGwvaXJhbi1kZWF0aC10aHJlYXRzLWZvb3RiYWxsLWludGwtc3B0L2luZGV4Lmh0bWw?oc=5', 'https://news.google.com/__i/rss/rd/articles/CBMiWWh0dHBzOi8vd3d3LmZveG5ld3MuY29tL3dvcmxkL2lyYW4tc2VjcmV0bHktY29udHJhY3RzLXFhdGFyLW92ZXItd29ybGQtY3VwLWRpc3NlbnQtcmVwb3J00gEA?oc=5', 'https://news.google.com/__i/rss/rd/articles/CBMiW2h0dHBzOi8vd3d3LmVzcG4uY29tL3Nwb3J0cy9zb2NjZXIvc3RvcnkvXy9pZC8zNTEzNzY4Ni9pcmFuLXVzYS1saXZlLXVwZGF0ZXMtd29ybGQtY3VwLTIwMjLSAWhodHRwczovL3d3dy5lc3BuLmNvbS9zcG9ydHMvc29jY2VyL3N0b3J5L18vaWQvMzUxMzc2ODYvaXJhbi11c2EtbGl2ZS11cGRhdGVzLXdvcmxkLWN1cC0yMDIyP3BsYXRmb3JtPWFtcA?oc=5'}, '#MakeAMovieChristmas': set(), 'Kuminga': {'https://news.google.com/__i/rss/rd/articles/CBMikwFodHRwczovL3d3dy50aGVkcmVhbXNoYWtlLmNvbS9ob3VzdG9uLXJvY2tldHMtbmJhLXRyYWRlLXJ1bW9ycy8yMDIyLzExLzI5LzIzNDgwMzgwL3Nob3VsZC10aGUtaG91c3Rvbi1yb2NrZXRzLXRyYWRlLWZvci1qb25hdGhhbi1rdW1pbmdhLW5iYS1ydW1vcnPSAaABaHR0cHM6Ly93d3cudGhlZHJlYW1zaGFrZS5jb20vcGxhdGZvcm0vYW1wL2hvdXN0b24tcm9ja2V0cy1uYmEtdHJhZGUtcnVtb3JzLzIwMjIvMTEvMjkvMjM0ODAzODAvc2hvdWxkLXRoZS1ob3VzdG9uLXJvY2tldHMtdHJhZGUtZm9yLWpvbmF0aGFuLWt1bWluZ2EtbmJhLXJ1bW9ycw?oc=5', 'https://news.google.com/__i/rss/rd/articles/CBMibmh0dHBzOi8vd3d3Lm5iY3Nwb3J0cy5jb20vYmF5YXJlYS93YXJyaW9ycy9kcmF5bW9uZC1ncmVlbi1wYXNzaW9uYXRlbHktZGVmZW5kcy1qb25hdGhhbi1rdW1pbmdhcy1ncm93aW5nLXBhaW5z0gFyaHR0cHM6Ly93d3cubmJjc3BvcnRzLmNvbS9iYXlhcmVhL3dhcnJpb3JzL2RyYXltb25kLWdyZWVuLXBhc3Npb25hdGVseS1kZWZlbmRzLWpvbmF0aGFuLWt1bWluZ2FzLWdyb3dpbmctcGFpbnM_YW1w?oc=5', 'https://news.google.com/__i/rss/rd/articles/CBMiamh0dHBzOi8vd3d3LnNmY2hyb25pY2xlLmNvbS9zcG9ydHMvd2FycmlvcnMvYXJ0aWNsZS9Kb25hdGhhbi1LdW1pbmdhLWJlbGlldmVzLVdhcnJpb3JzLWNhbi1iZS0xNzU5NjY0Mi5waHDSAQA?oc=5', 'https://news.google.com/__i/rss/rd/articles/CBMiUmh0dHBzOi8vdGhlYXRobGV0aWMuY29tLzM5NDMxMjYvMjAyMi8xMS8yOC9nb2xkZW4tc3RhdGUtd2FycmlvcnMtam9uYXRoYW4ta3VtaW5nYS_SAVhodHRwczovL3RoZWF0aGxldGljLmNvbS8zOTQzMTI2LzIwMjIvMTEvMjgvZ29sZGVuLXN0YXRlLXdhcnJpb3JzLWpvbmF0aGFuLWt1bWluZ2EvP2FtcD0x?oc=5', 'https://news.google.com/__i/rss/rd/articles/CBMiWGh0dHBzOi8vdGhlYXRobGV0aWMuY29tLzM3NTQxODUvMjAyMi8xMS8wNy9qb25hdGhhbi1rdW1pbmdhLXdhcnJpb3JzLWxpbmV1cC1kZXB0aC1jaGFydC_SAV5odHRwczovL3RoZWF0aGxldGljLmNvbS8zNzU0MTg1LzIwMjIvMTEvMDcvam9uYXRoYW4ta3VtaW5nYS13YXJyaW9ycy1saW5ldXAtZGVwdGgtY2hhcnQvP2FtcD0x?oc=5'}, 'Stewart Rhodes': {'https://news.google.com/__i/rss/rd/articles/CBMijwFodHRwczovL3d3dy5mb3JiZXMuY29tL3ZpZGVvLzYzMTYzMjM2MzYxMTIvb2F0aC1rZWVwZXJzLXRyaWFsLWZvdW5kZXItc3Rld2FydC1yaG9kZXMtZm91bmQtZ3VpbHR5LW9mLXNlZGl0aW91cy1jb25zcGlyYWN5aW4tYS1maXJzdC1zaW5jZS0xOTk1L9IBkwFodHRwczovL3d3dy5mb3JiZXMuY29tL3ZpZGVvLzYzMTYzMjM2MzYxMTIvb2F0aC1rZWVwZXJzLXRyaWFsLWZvdW5kZXItc3Rld2FydC1yaG9kZXMtZm91bmQtZ3VpbHR5LW9mLXNlZGl0aW91cy1jb25zcGlyYWN5aW4tYS1maXJzdC1zaW5jZS0xOTk1L2FtcC8?oc=5', 'https://news.google.com/__i/rss/rd/articles/CBMiSGh0dHBzOi8vbmV3cy55YWhvby5jb20vb2F0aC1rZWVwZXJzLXRyaWFsLXZlcmRpY3QtcmVhY2hlZC0yMTUwMTk5ODkuaHRtbNIBUGh0dHBzOi8vbmV3cy55YWhvby5jb20vYW1waHRtbC9vYXRoLWtlZXBlcnMtdHJpYWwtdmVyZGljdC1yZWFjaGVkLTIxNTAxOTk4OS5odG1s?oc=5', 'https://news.google.com/__i/rss/rd/articles/CBMidWh0dHBzOi8vd2FtdS5vcmcvc3RvcnkvMjIvMTEvMjkvb2F0aC1rZWVwZXJzLWZvdW5kZXItc3Rld2FydC1yaG9kZXMtY29udmljdGVkLW9mLXNlZGl0aW91cy1jb25zcGlyYWN5LWluLWphbi02LXRyaWFsL9IBAA?oc=5', 'https://news.google.com/__i/rss/rd/articles/CBMipwFodHRwczovL3d3dy53ZmFhLmNvbS9hcnRpY2xlL25ld3MvbmF0aW9uYWwvb2F0aC1rZWVwZXJzLWZvdW5kZXItc3Rld2FydC1yaG9kZXMta2VsbHktbWVnZ3MtZm91bmQtZ3VpbHR5LW9mLXNlZGl0aW91cy1jb25zcGlyYWN5LzY1LWM3MmU2ODBkLWVhYTItNGM3MS04YzA0LWY0YjQxNmQ3Y2VjZNIBqwFodHRwczovL3d3dy53ZmFhLmNvbS9hbXAvYXJ0aWNsZS9uZXdzL25hdGlvbmFsL29hdGgta2VlcGVycy1mb3VuZGVyLXN0ZXdhcnQtcmhvZGVzLWtlbGx5LW1lZ2dzLWZvdW5kLWd1aWx0eS1vZi1zZWRpdGlvdXMtY29uc3BpcmFjeS82NS1jNzJlNjgwZC1lYWEyLTRjNzEtOGMwNC1mNGI0MTZkN2NlY2Q?oc=5', 'https://news.google.com/__i/rss/rd/articles/CBMigAFodHRwczovL3d3dy5ibG9vbWJlcmcuY29tL25ld3MvYXJ0aWNsZXMvMjAyMi0xMS0yOS9vYXRoLWtlZXBlci1sZWFkZXItcmhvZGVzLWNvbnZpY3RlZC1vZi1qYW4tNi1zZWRpdGlvbi1jaGFyZ2U_c3JuZD1wb2xpdGljcy12cNIBAA?oc=5'}, 'Bowser': {'https://news.google.com/__i/rss/rd/articles/CBMiSWh0dHBzOi8vd3d3Lndhc2hpbmd0b25wb3N0LmNvbS9kYy1tZC12YS8yMDIyLzExLzI5L2RjaGEtcmVwbHktaHVkLXJlcG9ydC_SAQA?oc=5', 'https://news.google.com/__i/rss/rd/articles/CBMidGh0dHBzOi8vd3d3Lm5tZS5jb20vbmV3cy9maWxtL2Jvd3Nlci1wbG90cy13b3JsZC1kb21pbmF0aW9uLWluLXNlY29uZC10cmFpbGVyLWZvci10aGUtc3VwZXItbWFyaW8tYnJvcy1tb3ZpZS0zMzU3NzYz0gEA?oc=5', 'https://news.google.com/__i/rss/rd/articles/CBMiNWh0dHBzOi8vdGhlZGlyZWN0LmNvbS9nYW1pbmcvbWFyaW8tbW92aWUtcGVhY2gtYm93c2Vy0gEA?oc=5', 'https://news.google.com/__i/rss/rd/articles/CBMicGh0dHBzOi8vbWF5b3IuZGMuZ292L3JlbGVhc2UvbWF5b3ItYm93c2VyLWFubm91bmNlcy1mdW5kaW5nLTExMy1ub25wcm9maXQtb3JnYW5pemF0aW9ucy1pbmNyZWFzZS1vdXQtc2Nob29sLXRpbWXSAQA?oc=5', 'https://news.google.com/__i/rss/rd/articles/CBMimAFodHRwczovL3d3dy5leHBsb3JlY2xhcmlvbi5jb20vMjAyMi8xMS8yOS9rZXlzdG9uZS1zZW5pb3ItbmF0YWxpZS1ib3dzZXItZGV0ZXJtaW5lZC10by1wcm92ZS1kb3VidGVycy13cm9uZy1hbmQtaGVscC10aGUtcGFudGhlcnMtdG8tYS1ib3VuY2UtYmFjay15ZWFyL9IBAA?oc=5'}, 'Netherlands': {'https://news.google.com/__i/rss/rd/articles/CBMia2h0dHBzOi8vdGhlYXRobGV0aWMuY29tL2xpdmUtYmxvZ3MvbmV0aGVybGFuZHMtcWF0YXItd29ybGQtY3VwLTIwMjItbGl2ZS1zY29yZS11cGRhdGVzLXJlc3VsdC9iMDc2U1F6ajJ3RTQv0gEA?oc=5', 'https://news.google.com/__i/rss/rd/articles/CBMic2h0dHBzOi8vd3d3Lndhc2hpbmd0b25leGFtaW5lci5jb20vcG9saWN5L2VuZXJneS1lbnZpcm9ubWVudC9uZXRoZXJsYW5kcy1idXktb3V0LWFuZC1jbG9zZS1mYXJtcy1tZWV0LWNsaW1hdGUtZ29hbHPSAQA?oc=5', 'https://news.google.com/__i/rss/rd/articles/CBMiZ2h0dHBzOi8vcGR4LmVhdGVyLmNvbS8yMDIyLzExLzI5LzIzNDg0OTM3L2Fzay1lYXRlci11cy12cy1uZXRoZXJsYW5kcy13b3JsZC1jdXAtd2hlcmUtdG8td2F0Y2gtcG9ydGxhbmTSAQA?oc=5', 'https://news.google.com/__i/rss/rd/articles/CBMic2h0dHBzOi8vd3d3LmVzcG4uY29tL3NvY2Nlci9maWZhLXdvcmxkLWN1cC9zdG9yeS80ODE5MTc4L25ldGhlcmxhbmRzLWNydWlzZS10aHJvdWdoLWFzLXFhdGFycy1kaXNtYWwtd29ybGQtY3VwLWVuZHPSAYABaHR0cHM6Ly93d3cuZXNwbi5jb20vc29jY2VyL2ZpZmEtd29ybGQtY3VwL3N0b3J5LzQ4MTkxNzgvbmV0aGVybGFuZHMtY3J1aXNlLXRocm91Z2gtYXMtcWF0YXJzLWRpc21hbC13b3JsZC1jdXAtZW5kcz9wbGF0Zm9ybT1hbXA?oc=5', 'https://news.google.com/__i/rss/rd/articles/CBMie2h0dHBzOi8vd3d3LmVzcG4uY29tL3NvY2Nlci91bml0ZWQtc3RhdGVzLXVzYS9zdG9yeS80ODE5ODUxL3VzYS1zZWUtbmV0aGVybGFuZHMtd29ybGQtY3VwLWxhc3QtMTYtY2xhc2gtYXMtaHVnZS1vcHBvcnR1bml0edIBiAFodHRwczovL3d3dy5lc3BuLmNvbS9zb2NjZXIvdW5pdGVkLXN0YXRlcy11c2Evc3RvcnkvNDgxOTg1MS91c2Etc2VlLW5ldGhlcmxhbmRzLXdvcmxkLWN1cC1sYXN0LTE2LWNsYXNoLWFzLWh1Z2Utb3Bwb3J0dW5pdHk_cGxhdGZvcm09YW1w?oc=5'}, 'Taylor Hall': {'https://news.google.com/__i/rss/rd/articles/CBMiZ2h0dHBzOi8vd3d3Lm5iY3Nwb3J0cy5jb20vYm9zdG9uL2JydWlucy9zaG91bGQtYnJ1aW5zLXB1cnN1ZS1ibGFja2hhd2tzLXBhdHJpY2sta2FuZS1uaGwtdHJhZGUtZGVhZGxpbmXSAWtodHRwczovL3d3dy5uYmNzcG9ydHMuY29tL2Jvc3Rvbi9icnVpbnMvc2hvdWxkLWJydWlucy1wdXJzdWUtYmxhY2toYXdrcy1wYXRyaWNrLWthbmUtbmhsLXRyYWRlLWRlYWRsaW5lP2FtcA?oc=5', 'https://news.google.com/__i/rss/rd/articles/CBMiWmh0dHBzOi8vd3d3LmNic3Nwb3J0cy5jb20vZmFudGFzeS9ob2NrZXkvbmV3cy9icnVpbnMtdGF5bG9yLWhhbGwtc2VuZHMtZ2FtZS1pbnRvLW92ZXJ0aW1lL9IBXmh0dHBzOi8vd3d3LmNic3Nwb3J0cy5jb20vZmFudGFzeS9ob2NrZXkvbmV3cy9icnVpbnMtdGF5bG9yLWhhbGwtc2VuZHMtZ2FtZS1pbnRvLW92ZXJ0aW1lL2FtcC8?oc=5', 'https://news.google.com/__i/rss/rd/articles/CBMiemh0dHBzOi8vb2lsZXJzbmF0aW9uLmNvbS9uZXdzL2VkbW9udG9uLW9pbGVycy10YXlsb3ItaGFsbC1mb3ItbmV3LWplcnNleS1kZXZpbHMtYWRhbS1sYXJzc29uLXJldHJvc3BlY3RpdmUtc2l4LXllYXJzLWxhdGVy0gEA?oc=5', 'https://news.google.com/__i/rss/rd/articles/CBMicGh0dHBzOi8vbmVzbi5jb20vMjAyMi8xMS9wbGF5LXByZWRpY3QtdGhlLWdhbWUtZHVyaW5nLWR1cmluZy1icnVpbnMtaHVycmljYW5lcy10by13aW4tc2lnbmVkLXRheWxvci1oYWxsLWplcnNleS_SAXRodHRwczovL25lc24uY29tLzIwMjIvMTEvcGxheS1wcmVkaWN0LXRoZS1nYW1lLWR1cmluZy1kdXJpbmctYnJ1aW5zLWh1cnJpY2FuZXMtdG8td2luLXNpZ25lZC10YXlsb3ItaGFsbC1qZXJzZXkvYW1wLw?oc=5', 'https://news.google.com/__i/rss/rd/articles/CBMiaGh0dHBzOi8vd3d3LmZhbnRhc3lwcm9zLmNvbS8yMDIyLzExL2ZhbnRhc3ktaG9ja2V5LXRyYWRlLWFkdmljZS1hbmRlcnMtbGVlLWtyaXMtbGV0YW5nLXRheWxvci1oYWxsLTIwMjIv0gEA?oc=5'}, 'Pulisic': {'https://news.google.com/__i/rss/rd/articles/CBMidmh0dHBzOi8vd3d3LmVzcG4uY29tL3NvY2Nlci91bml0ZWQtc3RhdGVzLXVzYS9zdG9yeS80ODE5NjI5L3VzYXMtY2hyaXN0aWFuLXB1bGlzaWMtb2ZmLWF0LWhhbGYtdGltZS1hZnRlci1nb2FsLXZzLWlyYW7SAYMBaHR0cHM6Ly93d3cuZXNwbi5jb20vc29jY2VyL3VuaXRlZC1zdGF0ZXMtdXNhL3N0b3J5LzQ4MTk2MjkvdXNhcy1jaHJpc3RpYW4tcHVsaXNpYy1vZmYtYXQtaGFsZi10aW1lLWFmdGVyLWdvYWwtdnMtaXJhbj9wbGF0Zm9ybT1hbXA?oc=5', 'https://news.google.com/__i/rss/rd/articles/CBMiNGh0dHBzOi8vd3d3LmZveHNwb3J0cy5jb20vd2F0Y2gvcGxheS02MGYwN2EyYmUwMDAwNGLSAQA?oc=5', 'https://news.google.com/__i/rss/rd/articles/CBMiWGh0dHBzOi8vdGhlYXRobGV0aWMuY29tLzM5NDg2ODEvMjAyMi8xMS8yOS93aGVyZS13aWxsLXB1bGlzaWMtZ28td2hlbi1oZS1sZWF2ZXMtY2hlbHNlYS_SAQA?oc=5', 'https://news.google.com/__i/rss/rd/articles/CBMid2h0dHBzOi8vd3d3LmVzcG4uY29tL3NvY2Nlci9maWZhLXdvcmxkLWN1cC9zdG9yeS80ODA0MTg3L3VzbW50cy1jaHJpc3RpYW4tcHVsaXNpYy1pLWNhbi1oYW5kbGUtcWF0YXItd29ybGQtY3VwLXByZXNzdXJl0gGEAWh0dHBzOi8vd3d3LmVzcG4uY29tL3NvY2Nlci9maWZhLXdvcmxkLWN1cC9zdG9yeS80ODA0MTg3L3VzbW50cy1jaHJpc3RpYW4tcHVsaXNpYy1pLWNhbi1oYW5kbGUtcWF0YXItd29ybGQtY3VwLXByZXNzdXJlP3BsYXRmb3JtPWFtcA?oc=5', 'https://news.google.com/__i/rss/rd/articles/CBMiXWh0dHBzOi8vbXlub3J0aHdlc3QuY29tLzM3MzIxMTUvcHVsaXNpYy1nb2FsLWFkdmFuY2VzLXVzLWluLXdvcmxkLWN1cC13aXRoLTEtMC13aW4tb3Zlci1pcmFuL9IBAA?oc=5'}, 'McConnell': {'https://news.google.com/__i/rss/rd/articles/CBMicmh0dHBzOi8vdGhlaGlsbC5jb20vaG9tZW5ld3MvMzc1NDcyMi1tY2Nvbm5lbGwtc2F5cy10aGVyZXMtd2lkZXNwcmVhZC1hZ3JlZW1lbnQtYW1vbmctbGVhZGVycy1vbi1uZWVkLWZvci1vbW5pYnVzL9IBAA?oc=5', 'https://news.google.com/__i/rss/rd/articles/CBMiY2h0dHBzOi8vd3d3LnBvbGl0aWNvLmNvbS9uZXdzLzIwMjIvMTEvMjkvbWNjYXJ0aHktY3JpdGljaXplLXRydW1wLXdoaXRlLXN1cHJlbWFjaXN0LWRpbm5lci0wMDA3MTE2MdIBAA?oc=5', 'https://news.google.com/__i/rss/rd/articles/CBMiaGh0dHBzOi8vd3d3LnBvbGl0aWNvLmNvbS9uZXdzL21hZ2F6aW5lLzIwMjIvMTEvMTAvcmljay1zY290dC1tY2Nvbm5lbGwtbWlkdGVybS1lbGVjdGlvbnMtbWFydGluLTAwMDY2NDAw0gEA?oc=5', 'https://news.google.com/__i/rss/rd/articles/CBMiVWh0dHBzOi8vd3d3Lm55dGltZXMuY29tLzIwMjIvMTEvMTYvdXMvcG9saXRpY3MvbWl0Y2gtbWNjb25uZWxsLXJpY2stc2NvdHQtc2VuYXRlLmh0bWzSAQA?oc=5', 'https://news.google.com/__i/rss/rd/articles/CBMiYmh0dHBzOi8vd3d3LmNubi5jb20vMjAyMi8xMS8wMi9wb2xpdGljcy9taXRjaC1tY2Nvbm5lbGwtcmljay1zY290dC1maWdodC1zZW5hdGUtY29udHJvbC9pbmRleC5odG1s0gFmaHR0cHM6Ly9hbXAuY25uLmNvbS9jbm4vMjAyMi8xMS8wMi9wb2xpdGljcy9taXRjaC1tY2Nvbm5lbGwtcmljay1zY290dC1maWdodC1zZW5hdGUtY29udHJvbC9pbmRleC5odG1s?oc=5'}, 'Smash': {'https://news.google.com/__i/rss/rd/articles/CBMigAFodHRwczovL3d3dy5vcmVnb25saXZlLmNvbS9jcmltZS8yMDIyLzExL3NtYXNoLWFuZC1ncmFiLXN0cmlrZXMtcmVpLWluLXBvcnRsYW5kcy1wZWFybC1kaXN0cmljdC1hcy1yZXRhaWxlcnMtd29ycmllcy13b3JzZW4uaHRtbNIBAA?oc=5', 'https://news.google.com/__i/rss/rd/articles/CBMinQFodHRwczovL3d3dy5rc2RrLmNvbS9hcnRpY2xlL25ld3MvbG9jYWwvaXRzLXNvLWhhcmQtYnVzaW5lc3Mtb3duZXJzLXJlYWN0LWFzLXNtYXNoLWFuZC1ncmFicy1jb250aW51ZS1hY3Jvc3Mtc3QtbG91aXMvNjMtMTIzNjEwNWMtN2RjNS00MzE1LTk2OWUtMjkxMzNlYWZiYTY00gGhAWh0dHBzOi8vd3d3LmtzZGsuY29tL2FtcC9hcnRpY2xlL25ld3MvbG9jYWwvaXRzLXNvLWhhcmQtYnVzaW5lc3Mtb3duZXJzLXJlYWN0LWFzLXNtYXNoLWFuZC1ncmFicy1jb250aW51ZS1hY3Jvc3Mtc3QtbG91aXMvNjMtMTIzNjEwNWMtN2RjNS00MzE1LTk2OWUtMjkxMzNlYWZiYTY0?oc=5', 'https://news.google.com/__i/rss/rd/articles/CBMiU2h0dHBzOi8va290YWt1LmNvbS9uaW50ZW5kby1zbWFzaC13b3JsZC10b3VyLWZnYy1zaHV0LWRvd24tcGFuZGEtZXNwb3J0cy0xODQ5ODMzODY30gEA?oc=5', 'https://news.google.com/__i/rss/rd/articles/CBMiX2h0dHBzOi8vZG90ZXNwb3J0cy5jb20vdmFsb3JhbnQvbmV3cy9tb2RkZXItYnJpbmdzLXZhbG9yYW50LWFnZW50cy10by1zdXBlci1zbWFzaC1icm9zLXVsdGltYXRl0gEA?oc=5', 'https://news.google.com/__i/rss/rd/articles/CBMicWh0dHBzOi8vd3d3Lm5qLmNvbS9uZXdzLzIwMjIvMTEvdGhpZXZlcy11c2luZy1zdG9sZW4tbHV4dXJ5LXZlaGljbGVzLWluLXNlcmllcy1vZi1zbWFzaC1hbmQtZ3JhYi1hdG1zLWhlaXN0cy5odG1s0gEA?oc=5'}, 'Casey Anthony': {'https://news.google.com/__i/rss/rd/articles/CBMiVWh0dHBzOi8vdmFyaWV0eS5jb20vMjAyMi90di9uZXdzL2Nhc2V5LWFudGhvbnktZG9jdXNlcmllcy10cmFpbGVyLXBlYWNvY2stMTIzNTQyNjEyMS_SAQA?oc=5', 'https://news.google.com/__i/rss/rd/articles/CBMigQFodHRwczovL3d3dy55YWhvby5jb20vZW50ZXJ0YWlubWVudC9pdC1saXN0LWxvdmUtYWN0dWFsbHktcmV1bmlvbi0yMHRoLWFubml2ZXJzYXJ5LWNhc2V5LWFudGhvbnktdGhlLW1hc2tlZC1zaW5nZXItMTkwMDA0NzkyLmh0bWzSAQA?oc=5', 'https://news.google.com/__i/rss/rd/articles/CBMiR2h0dHBzOi8vY2EubW92aWVzLnlhaG9vLmNvbS9jYXNleS1hbnRob255LWZhdGhlci1zdWUtaGVyLTE4MjAyNDAyMy5odG1s0gFPaHR0cHM6Ly9jYS5tb3ZpZXMueWFob28uY29tL2FtcGh0bWwvY2FzZXktYW50aG9ueS1mYXRoZXItc3VlLWhlci0xODIwMjQwMjMuaHRtbA?oc=5', 'https://news.google.com/__i/rss/rd/articles/CBMiUWh0dHBzOi8vd3d3LnlhaG9vLmNvbS9lbnRlcnRhaW5tZW50L3doZXJlLWdlb3JnZS1jaW5keS1hbnRob255LW5vdy0xNjMwMDMxOTUuaHRtbNIBWWh0dHBzOi8vd3d3LnlhaG9vLmNvbS9hbXBodG1sL2VudGVydGFpbm1lbnQvd2hlcmUtZ2VvcmdlLWNpbmR5LWFudGhvbnktbm93LTE2MzAwMzE5NS5odG1s?oc=5', 'https://news.google.com/__i/rss/rd/articles/CBMihQFodHRwczovL3d3dy51c2F0b2RheS5jb20vc3RvcnkvZW50ZXJ0YWlubWVudC90di8yMDIyLzExLzI5L2Nhc2V5LWFudGhvbnktZG9jdW1lbnRhcnktZG9jdXNlcmllcy13aGVyZS10cnV0aC1saWVzLXBlYWNvY2svMTA3OTI0ODcwMDIv0gEA?oc=5'}, 'Donkey Kong': {'https://news.google.com/__i/rss/rd/articles/CBMiQ2h0dHBzOi8vd3d3LnBvbHlnb24uY29tLzIzNDg0OTc0L21hcmlvLW1vdmllLWRvbmtleS1rb25nLXNtb2tlLXdlZWTSAQA?oc=5', 'https://news.google.com/__i/rss/rd/articles/CBMiTWh0dHBzOi8vd3d3LnlhaG9vLmNvbS9lbnRlcnRhaW5tZW50L2FueWEtdGF5bG9yLWpveS1wZWFjaC1zZXRoLTAwNDU0NzU1NS5odG1s0gFVaHR0cHM6Ly93d3cueWFob28uY29tL2FtcGh0bWwvZW50ZXJ0YWlubWVudC9hbnlhLXRheWxvci1qb3ktcGVhY2gtc2V0aC0wMDQ1NDc1NTUuaHRtbA?oc=5', 'https://news.google.com/__i/rss/rd/articles/CBMiWWh0dHBzOi8vd3d3Lmlnbi5jb20vYXJ0aWNsZXMvc2hpZ2VydS1taXlhbW90by1kb25rZXkta29uZy1yZWRlc2lnbi1zdXBlci1tYXJpby1icm9zLW1vdmll0gEA?oc=5', 'https://news.google.com/__i/rss/rd/articles/CBMihwFodHRwczovL2NoaWNhZ28uc3VudGltZXMuY29tLzIwMjIvMTEvMjMvMjM0NjEyNTMvY2hpY2Fnby1tdXJhbHMtZG9ua2V5LWtvbmctbWVnYW4ta2luZC12aWRlby1nYW1lcy1tYXJpby1zb25pYy1wZWFzLWRvZXItc291dGh3ZXN0LXNpZGXSAQA?oc=5', 'https://news.google.com/__i/rss/rd/articles/CBMiUmh0dHBzOi8vd3d3LnlhaG9vLmNvbS9lbnRlcnRhaW5tZW50L3N1cGVyLW1hcmlvLWJyb3Mtc2Vjb25kLXRyYWlsZXItMjIwOTUzODQ5Lmh0bWzSAVpodHRwczovL3d3dy55YWhvby5jb20vYW1waHRtbC9lbnRlcnRhaW5tZW50L3N1cGVyLW1hcmlvLWJyb3Mtc2Vjb25kLXRyYWlsZXItMjIwOTUzODQ5Lmh0bWw?oc=5'}, 'Dutch': {'https://news.google.com/__i/rss/rd/articles/CBMiemh0dHBzOi8vd3d3Lmp1c3RpY2UuZ292L29wYS9wci9yZWFkb3V0LXVzLWF0dG9ybmV5LWdlbmVyYWwtbWVycmljay1iLWdhcmxhbmQtcy1tZWV0aW5nLWR1dGNoLW1pbmlzdGVyLWp1c3RpY2UtYW5kLXNlY3VyaXR50gEA?oc=5', 'https://news.google.com/__i/rss/rd/articles/CBMiYmh0dHBzOi8vc3dpbXN3YW0uY29tL2R1dGNoLWV4cGVjdGluZy1zdHJvbmctYnJpdGlzaC1nZXJtYW4tcmFjZXJzLWF0LXJvdHRlcmRhbS1xdWFsaWZpY2F0aW9uLW1lZXQv0gEA?oc=5', 'https://news.google.com/__i/rss/rd/articles/CBMiUWh0dHBzOi8vd3d3LmZveHNwb3J0cy5jb20vc3Rvcmllcy9zb2NjZXIvc2hlbGwtd29ybGQtY3VwLW5vdy1uZXRoZXJsYW5kcy12cy1xYXRhctIBAA?oc=5', 'https://news.google.com/__i/rss/rd/articles/CBMiKmh0dHBzOi8vd3d3LmJiYy5jb20vbmV3cy9idXNpbmVzcy02Mzc1NDgyNtIBLmh0dHBzOi8vd3d3LmJiYy5jb20vbmV3cy9idXNpbmVzcy02Mzc1NDgyNi5hbXA?oc=5', 'https://news.google.com/__i/rss/rd/articles/CBMie2h0dHBzOi8vd3d3LmVzcG4uY29tL3NvY2Nlci91bml0ZWQtc3RhdGVzLXVzYS9zdG9yeS80ODE5ODUxL3VzYS1zZWUtbmV0aGVybGFuZHMtd29ybGQtY3VwLWxhc3QtMTYtY2xhc2gtYXMtaHVnZS1vcHBvcnR1bml0edIBiAFodHRwczovL3d3dy5lc3BuLmNvbS9zb2NjZXIvdW5pdGVkLXN0YXRlcy11c2Evc3RvcnkvNDgxOTg1MS91c2Etc2VlLW5ldGhlcmxhbmRzLXdvcmxkLWN1cC1sYXN0LTE2LWNsYXNoLWFzLWh1Z2Utb3Bwb3J0dW5pdHk_cGxhdGZvcm09YW1w?oc=5'}, 'Wheeler': {'https://news.google.com/__i/rss/rd/articles/CBMiYWh0dHBzOi8vd3d3Lndib3kuY29tL25ld3MvdXBzaHVyL2J1Y2toYW5ub24tcG9saWNlLWxvb2tpbmctZm9yLW1hbi13aG8tYWxsZWdlZGx5LXN0b2xlLTQtd2hlZWxlci_SAWVodHRwczovL3d3dy53Ym95LmNvbS9uZXdzL3Vwc2h1ci9idWNraGFubm9uLXBvbGljZS1sb29raW5nLWZvci1tYW4td2hvLWFsbGVnZWRseS1zdG9sZS00LXdoZWVsZXIvYW1wLw?oc=5', 'https://news.google.com/__i/rss/rd/articles/CBMiW2h0dHBzOi8va2F0dS5jb20vbmV3cy9sb2NhbC9tYXlvci13aGVlbGVyLWNvbnNpZGVycy1idWRnZXQtb3B0aW9ucy1mb3Itc2FuY3Rpb25lZC1jYW1wc2l0ZXPSAV9odHRwczovL2thdHUuY29tL2FtcC9uZXdzL2xvY2FsL21heW9yLXdoZWVsZXItY29uc2lkZXJzLWJ1ZGdldC1vcHRpb25zLWZvci1zYW5jdGlvbmVkLWNhbXBzaXRlcw?oc=5', 'https://news.google.com/__i/rss/rd/articles/CBMigwFodHRwczovL3d3dy5rYWdzdHYuY29tL2FydGljbGUvbmV3cy9sb2NhbC8xOC13aGVlbGVyLWZsaXBwZWQtb3Zlci1vbi1od3ktNi1zaGVyaWZmcy1vZmZpY2UvNDk5LTkxY2E5Mjc0LTA0MDctNDFkNi1iYjAwLTE0ZGQ0MDA1ZGZlYdIBhwFodHRwczovL3d3dy5rYWdzdHYuY29tL2FtcC9hcnRpY2xlL25ld3MvbG9jYWwvMTgtd2hlZWxlci1mbGlwcGVkLW92ZXItb24taHd5LTYtc2hlcmlmZnMtb2ZmaWNlLzQ5OS05MWNhOTI3NC0wNDA3LTQxZDYtYmIwMC0xNGRkNDAwNWRmZWE?oc=5', 'https://news.google.com/__i/rss/rd/articles/CBMiS2h0dHBzOi8vdGhlbW9ucm9lc3VuLmNvbS9lZGl0aC13aGVlbGVyLW1lbW9yaWFsLWxpYnJhcnlzLWRlY2VtYmVyLWNhbGVuZGFyL9IBAA?oc=5', 'https://news.google.com/__i/rss/rd/articles/CBMiYmh0dHBzOi8vd3d3Lndpc3R2LmNvbS8yMDIyLzExLzI4L2NvbHVtYmlhLW1lbi1hY2N1c2VkLXN0ZWFsaW5nLWZvdXItd2hlZWxlci1hdWd1c3RhLXJvYWQtYnVzaW5lc3Mv0gEA?oc=5'}, 'Jack Black': {'https://news.google.com/__i/rss/rd/articles/CBMihgFodHRwczovL3RoZWhpbGwuY29tL2Jsb2dzL2luLXRoZS1rbm93LzM3MTg1MTgtamFjay1ibGFjay1zYXlzLWl0LWZlZWxzLWxpa2UtdGhlLWVuZC1vZi10aGUtd29ybGQtaWYtdm90ZXJzLWRvbnQtdHVybi1vdXQtZm9yLW1pZHRlcm1zL9IBAA?oc=5', 'https://news.google.com/__i/rss/rd/articles/CBMiNGh0dHBzOi8vd3d3LmZhbmJvbHQuY29tLzEzMTcwMS9qYWNrLWJsYWNrLW5ldC13b3J0aC_SAQA?oc=5', 'https://news.google.com/__i/rss/rd/articles/CBMiU2h0dHBzOi8vd3d3LnNsYXNoZmlsbS5jb20vMTEwODgzMS9qYWNrLWJsYWNrLWp1c3QtbWlnaHQtYmUtd2F0ZXJ3b3JsZHMtYmlnZ2VzdC1mYW4v0gEA?oc=5', 'https://news.google.com/__i/rss/rd/articles/CBMiR2h0dHBzOi8vd3d3LnNsYXNoZmlsbS5jb20vc3Rvcmllcy90aGUtMTItYmVzdC1qYWNrLWJsYWNrLW1vdmllcy1yYW5rZWQv0gFHaHR0cHM6Ly93d3cuc2xhc2hmaWxtLmNvbS9zdG9yaWVzL3RoZS0xMi1iZXN0LWphY2stYmxhY2stbW92aWVzLXJhbmtlZC8?oc=5', 'https://news.google.com/__i/rss/rd/articles/CBMiNWh0dHBzOi8vbWlkZGxlZWFzeS5jb20vbW1hLW5ld3MvamFjay1ibGFjay13b25kZXJib3kv0gEA?oc=5'}, 'Marquette': {'https://news.google.com/__i/rss/rd/articles/CBMiWmh0dHBzOi8vZ29tYXJxdWV0dGUuY29tL25ld3MvMjAyMi8xMS8yNy93b21lbnMtdm9sbGV5YmFsbC12b2xsZXliYWxsLW1ha2VzLW5jYWEtYXBwZWFyYW5jZdIBAA?oc=5', 'https://news.google.com/__i/rss/rd/articles/CBMif2h0dHBzOi8vd3d3LmdlbmVzZW9yZXB1YmxpYy5jb20vc3Rvcnkvc3BvcnRzL3Nwb3J0cy1iZXR0aW5nLzIwMjIvMTEvMjkvYmF5bG9yLWF0LW1hcnF1ZXR0ZS1vZGRzLXBpY2tzLWFuZC1wcmVkaWN0aW9ucy81MDk4NzEwNy_SAQA?oc=5', 'https://news.google.com/__i/rss/rd/articles/CBMivAFodHRwczovL3RvZGF5Lm1hcnF1ZXR0ZS5lZHUvMjAyMi8xMS9tYXJxdWV0dGUtYnVzaW5lc3MtZmFjdWx0eS1zdGFmZi1iZWdpbi10by1tb3ZlLWludG8tbmV3bHktY29uc3RydWN0ZWQtb2JyaWVuLWhhbGwtbGFyZ2VzdC1mdWxseS1kb25vci1mdW5kZWQtY29uc3RydWN0aW9uLXByb2plY3QtaW4tdW5pdmVyc2l0eS1oaXN0b3J5L9IBAA?oc=5', 'https://news.google.com/__i/rss/rd/articles/CBMihwFodHRwczovL3d3dy5tYXJxdWV0dGUuZWR1L25ld3MtY2VudGVyLzIwMjIvZm9ybWVyLXdpc2NvbnNpbi1nb3Zlcm5vci1vbi10aGUtaXNzdWVzLWRpc2N1c3Mtc3Vydml2aW5nLWFzLWFsemhlaW1lci1zLWNhcmVnaXZlci1kZWMtMS5waHDSAQA?oc=5', 'https://news.google.com/__i/rss/rd/articles/CBMiZGh0dHBzOi8vZ29tYXJxdWV0dGUuY29tL25ld3MvMjAyMi8xMS8yOC9tZW5zLWJhc2tldGJhbGwtbXViYi1ob3N0cy1uby02LWJheWxvci10dWVzZGF5LWF0LTctMzAtcG0tY3TSAQA?oc=5'}, 'Anthony Lamb': {'https://news.google.com/__i/rss/rd/articles/CBMiZWh0dHBzOi8vd3d3LmNic3Nwb3J0cy5jb20vZmFudGFzeS9iYXNrZXRiYWxsL25ld3Mvd2FycmlvcnMtYW50aG9ueS1sYW1iLWxpa2VseS10by1yZW1haW4taW4tcm90YXRpb24v0gFpaHR0cHM6Ly93d3cuY2Jzc3BvcnRzLmNvbS9mYW50YXN5L2Jhc2tldGJhbGwvbmV3cy93YXJyaW9ycy1hbnRob255LWxhbWItbGlrZWx5LXRvLXJlbWFpbi1pbi1yb3RhdGlvbi9hbXAv?oc=5', 'https://news.google.com/__i/rss/rd/articles/CBMiWGh0dHBzOi8vd3d3LmNic3Nwb3J0cy5jb20vZmFudGFzeS9iYXNrZXRiYWxsL25ld3Mvd2FycmlvcnMtYW50aG9ueS1sYW1iLXRvLXN0YXJ0LW1vbmRheS_SAVxodHRwczovL3d3dy5jYnNzcG9ydHMuY29tL2ZhbnRhc3kvYmFza2V0YmFsbC9uZXdzL3dhcnJpb3JzLWFudGhvbnktbGFtYi10by1zdGFydC1tb25kYXkvYW1wLw?oc=5', 'https://news.google.com/__i/rss/rd/articles/CBMicmh0dHBzOi8vd3d3Lm5iY3Nwb3J0cy5jb20vYmF5YXJlYS93YXJyaW9ycy9ob3ctYW50aG9ueS1sYW1iLXVzZWQtc3RlcGgtY3VycnktbWFudHJhLW1ha2Utd2FycmlvcnMtaGlzdG9yeS12cy1zcHVyc9IBdmh0dHBzOi8vd3d3Lm5iY3Nwb3J0cy5jb20vYmF5YXJlYS93YXJyaW9ycy9ob3ctYW50aG9ueS1sYW1iLXVzZWQtc3RlcGgtY3VycnktbWFudHJhLW1ha2Utd2FycmlvcnMtaGlzdG9yeS12cy1zcHVycz9hbXA?oc=5', 'https://news.google.com/__i/rss/rd/articles/CBMiXWh0dHBzOi8vd3d3LmNic3Nwb3J0cy5jb20vZmFudGFzeS9iYXNrZXRiYWxsL25ld3Mvd2FycmlvcnMtYW50aG9ueS1sYW1iLW5vdC1pbi1zdGFydGluZy1maXZlL9IBYWh0dHBzOi8vd3d3LmNic3Nwb3J0cy5jb20vZmFudGFzeS9iYXNrZXRiYWxsL25ld3Mvd2FycmlvcnMtYW50aG9ueS1sYW1iLW5vdC1pbi1zdGFydGluZy1maXZlL2FtcC8?oc=5', 'https://news.google.com/__i/rss/rd/articles/CBMieGh0dHBzOi8vd3d3LnByZXNzZGVtb2NyYXQuY29tL2FydGljbGUvc3BvcnRzL3dhcnJpb3JzLWFyZS1wbGF5aW5nLXR3by13YXktcGxheWVycy10eS1qZXJvbWUtYW50aG9ueS1sYW1iLW92ZXItbG90dGVyeS1wL9IBAA?oc=5'}, 'Charlie Day': {'https://news.google.com/__i/rss/rd/articles/CBMiogFodHRwczovL3d3dy5sYXRlc3RseS5jb20vc29jaWFsbHkvZW50ZXJ0YWlubWVudC9vZmZpY2lhbC1jaGFyYWN0ZXItcG9zdGVycy1mb3ItY2hyaXMtcHJhdHRzLW1hcmlvLWFuZC1jaGFybGllLWRheXMtbHVpZ2ktaW4tbGF0ZXN0LXR3ZWV0LWJ5LXBvcC1jcmF2ZS00NTIzODk4Lmh0bWzSAaYBaHR0cHM6Ly93d3cubGF0ZXN0bHkuY29tL3NvY2lhbGx5L2VudGVydGFpbm1lbnQvb2ZmaWNpYWwtY2hhcmFjdGVyLXBvc3RlcnMtZm9yLWNocmlzLXByYXR0cy1tYXJpby1hbmQtY2hhcmxpZS1kYXlzLWx1aWdpLWluLWxhdGVzdC10d2VldC1ieS1wb3AtY3JhdmUtNDUyMzg5OC5odG1sL2FtcA?oc=5', 'https://news.google.com/__i/rss/rd/articles/CBMiYGh0dHBzOi8vd3d3Lm5ld3N3ZWVrLmNvbS9jaGFybGllLWRheS1wcmFpc2VkLWx1aWdpLXZvaWNlLWNocmlzLXByYXR0LXNsYW1tZWQtc3VwZXItbWFyaW8tMTc2MzM0MdIBAA?oc=5', 'https://news.google.com/__i/rss/rd/articles/CBMiamh0dHBzOi8vd3d3LmluZGVwZW5kZW50LmNvLnVrL2FydHMtZW50ZXJ0YWlubWVudC9maWxtcy9uZXdzL2pvaG4tbGVndWl6YW1vLWNocmlzLXByYXR0LW1hcmlvLWIyMjI2OTkzLmh0bWzSAQA?oc=5', 'https://news.google.com/__i/rss/rd/articles/CBMiYGh0dHBzOi8vd3d3LnNpbGl2ZS5jb20vbmV3cy8yMDIyLzExL3BldGUtZGF2aWRzb24tZmlsbXMtbmV3LXR2LXNob3ctYXQtc3RhdGVuLWlzbGFuZC1lYXRlcnkuaHRtbNIBAA?oc=5', 'https://news.google.com/__i/rss/rd/articles/CBMifWh0dHBzOi8vd3d3LmdvbmludGVuZG8uY29tL2NvbnRlbnRzLzEyMTYxLXJ1bW9yLWxlYWstcmV2ZWFscy1zdXBlci1tYXJpby1icm9zLW1vdmllLWFkdmVydGlzaW5nLXdpdGgtbW91bnRhaW4tZGV3LWNoYXJsaWUtZGF50gEA?oc=5'}, 'Boo Corrigan': {'https://news.google.com/__i/rss/rd/articles/CBMiogFodHRwczovL2J1Y2tleWVzd2lyZS51c2F0b2RheS5jb20vbGlzdHMvb2hpby1zdGF0ZS1mb290YmFsbC1ldmVyeXRoaW5nLWNvbGxlZ2UtZm9vdGJhbGwtcGxheW9mZi1jb21taXR0ZWUtc2FpZC1hYm91dC1idWNrZXllcy1hZnRlci1sYXRlc3QtcmFua2luZ3MtcmVsZWFzZS1maWZ0aC_SAQA?oc=5', 'https://news.google.com/__i/rss/rd/articles/CBMieWh0dHBzOi8vd29sdmVyaW5lc3dpcmUudXNhdG9kYXkuY29tL2xpc3RzL2V2ZXJ5dGhpbmctY2ZwLWNoYWlyLWJvby1jb3JyaWdhbi1zYWlkLWFib3V0LXJhbmtpbmdzLWJlZm9yZS1jaGFtcGlvbnNoaXAtd2Vlay_SAQA?oc=5', 'https://news.google.com/__i/rss/rd/articles/CBMioQFodHRwczovLzI0N3Nwb3J0cy5jb20vY29sbGVnZS90ZW5uZXNzZWUvTG9uZ0Zvcm1BcnRpY2xlL1Rlbm5lc3NlZS1Wb2xzLUZvb3RiYWxsLUJvby1Db3JyaWdhbi1Db2xsZWdlLUZvb3RiYWxsLVBsYXlvZmZzLVJhbmtpbmdzLUFsYWJhbWEtb3Zlci1UZW5uZXNzZWUtMTk5MDc3OTAxL9IBpQFodHRwczovLzI0N3Nwb3J0cy5jb20vY29sbGVnZS90ZW5uZXNzZWUvTG9uZ0Zvcm1BcnRpY2xlL1Rlbm5lc3NlZS1Wb2xzLUZvb3RiYWxsLUJvby1Db3JyaWdhbi1Db2xsZWdlLUZvb3RiYWxsLVBsYXlvZmZzLVJhbmtpbmdzLUFsYWJhbWEtb3Zlci1UZW5uZXNzZWUtMTk5MDc3OTAxL0FtcC8?oc=5', 'https://news.google.com/__i/rss/rd/articles/CBMikAFodHRwczovL3d3dy5vbjMuY29tL25ld3MvYWxhYmFtYS1jcmltc29uLXRpZGUtdGVubmVzc2VlLXZvbHVudGVlcnMtY29sbGVnZS1mb290YmFsbC1wbGF5b2ZmLWNmcC1yYW5raW5ncy1jb21taXR0ZWUtY2hhaXItYm9vLWNvcnJpZ2FuLWV4cGxhaW5lZC_SAQA?oc=5', 'https://news.google.com/__i/rss/rd/articles/CBMiiQFodHRwczovL3d3dy5vbjMuY29tL25ld3MvYm9vLWNvcnJpZ2FuLWJyZWFrcy1kb3duLWhlYXRlZC1kZWJhdGUtYW1vbmctY2ZwLXNlbGVjdGlvbi1jb21taXR0ZWUtb3Zlci10b3Atc3BvdC10ZW5uZXNzZWUtZ2VvcmdpYS1vaGlvLXN0YXRlL9IBAA?oc=5'}, 'Darla': {'https://news.google.com/__i/rss/rd/articles/CBMiVGh0dHBzOi8vd3d3LndidHcuY29tL25ld3MvZ3JhbmQtc3RyYW5kL215cnRsZS1iZWFjaC9uZXdzMTMtcGV0LW9mLXRoZS13ZWVrZW5kLWRhcmxhL9IBWGh0dHBzOi8vd3d3LndidHcuY29tL25ld3MvZ3JhbmQtc3RyYW5kL215cnRsZS1iZWFjaC9uZXdzMTMtcGV0LW9mLXRoZS13ZWVrZW5kLWRhcmxhL2FtcC8?oc=5', 'https://news.google.com/__i/rss/rd/articles/CBMiOWh0dHBzOi8vd3d3LmtydHYuY29tL25ld3Mvb2JpdHVhcmllcy9vYml0dWFyeS1kYXJsYS11dHRlctIBQ2h0dHBzOi8vd3d3LmtydHYuY29tL25ld3Mvb2JpdHVhcmllcy9vYml0dWFyeS1kYXJsYS11dHRlcj9fYW1wPXRydWU?oc=5', 'https://news.google.com/__i/rss/rd/articles/CBMiMmh0dHBzOi8vZHJ5ZGVud2lyZS5jb20vb2JpdHVhcmllcy9kYXJsYS1tLWNhcmxzb24v0gEA?oc=5', 'https://news.google.com/__i/rss/rd/articles/CBMiO2h0dHBzOi8vZm94c3BvcnRzcmFkaW8uaWhlYXJ0LmNvbS9jb250ZW50LzIwMTktMDYtMDYtZGFybGEv0gEA?oc=5', 'https://news.google.com/__i/rss/rd/articles/CBMiTGh0dHBzOi8vd3d3Lm53YW9ubGluZS5jb20vb2JpdHVhcmllcy8yMDIyL25vdi8yMC9kYXJsYS1kcnVtbW9uZHMtMjAyMi0xMS0yMC_SAQA?oc=5'}, 'Ralph Angel': {'https://news.google.com/__i/rss/rd/articles/CBMie2h0dHBzOi8vdXJiYW5iZWxsZW1hZy5jb20vMjAyMi8xMS8xNS9xdWVlbi1zdWdhci1yZWNhcC1hdW50LXZpLWRhc2hlcy1zYW1zLXBsYW4tcmFscGgtYW5nZWwtd2FudHMtdG8tdGVsbC1ibHVlLWFib3V0LWNoYXNlL9IBAA?oc=5', 'https://news.google.com/__i/rss/rd/articles/CBMiamh0dHBzOi8vdXJiYW5iZWxsZW1hZy5jb20vMjAyMi8xMS8wMS9xdWVlbi1zdWdhci1yZWNhcC1kYXJsYS1hbmQtcmFscGgtYW5nZWwtbGVhcm4tb2YtYW5vdGhlci1sYW5kcnktcGxvdC_SAQA?oc=5', 'https://news.google.com/__i/rss/rd/articles/CBMiUGh0dHBzOi8vd3d3Lndhc2hpbmd0b25wb3N0LmNvbS90di8yMDIyLzExLzI5L3F1ZWVuLXN1Z2FyLWZpbmFsZS13b21lbi1kaXJlY3RvcnMv0gEA?oc=5', 'https://news.google.com/__i/rss/rd/articles/CBMiWmh0dHBzOi8vd3d3LnR2ZmFuYXRpYy5jb20vMjAyMi8xMS9xdWVlbi1zdWdhci1zZWFzb24tNy1lcGlzb2RlLTEyLXJldmlldy1iZS1hbmQtYmUtYmV0dGVyL9IBAA?oc=5', 'https://news.google.com/__i/rss/rd/articles/CBMiOWh0dHBzOi8vd3d3LmRpc3RyYWN0aWZ5LmNvbS9wL3doby1pcy1jaGFzZS1vbi1xdWVlbi1zdWdhctIBAA?oc=5'}, 'Obergefell': {'https://news.google.com/__i/rss/rd/articles/CBMiaGh0dHBzOi8vd3d3LmJ1c2luZXNzaW5zaWRlci5jb20vamltLW9iZXJnZWZlbGwtaG9kZ2VzLW9oaW8taG91c2Utc2FtZS1zZXgtbWFycmlhZ2Utc3VwcmVtZS1jb3VydC0yMDIyLTEw0gEA?oc=5', 'https://news.google.com/__i/rss/rd/articles/CBMisgFodHRwczovL3d3dy5ocmMub3JnL3ByZXNzLXJlbGVhc2VzL3Jlc3BlY3QtZm9yLW1hcnJpYWdlLWFjdC13aGF0LWl0LWRvZXMtaG93LWl0LWludGVyYWN0cy13aXRoLXRoZS1vYmVyZ2VmZWxsLXJ1bGluZy1hbmQtd2h5LXRoZXlyZS1ib3RoLWVzc2VudGlhbC10by1wcm90ZWN0aW5nLW1hcnJpYWdlLWVxdWFsaXR50gEA?oc=5', 'https://news.google.com/__i/rss/rd/articles/CBMinQFodHRwczovL3d3dy5jaW5jaW5uYXRpLmNvbS9zdG9yeS9uZXdzL3BvbGl0aWNzL2VsZWN0aW9ucy8yMDIyLzExLzA5L2ppbS1vYmVyZ2VmZWxsLWdheS1yaWdodHMtbGVhZGVyLWxvc2VzLW9oaW8taG91c2UtcmFjZS0yMDIyLWVsZWN0aW9uLXJlc3VsdHMvNjk2MDkxMjUwMDcv0gEA?oc=5', 'https://news.google.com/__i/rss/rd/articles/CBMiW2h0dHBzOi8vd3d3LnRleGFzdHJpYnVuZS5vcmcvMjAyMi8xMS8yOS90ZWQtY3J1ei1qb2huLWNvcm55bi1zYW1lLXNleC1tYXJyaWFnZS1iaWxsLXNlbmF0ZS_SAQA?oc=5', 'https://news.google.com/__i/rss/rd/articles/CBMimwJodHRwczovL2FiY25ld3M0LmNvbS9uZXdzL25hdGlvbi13b3JsZC9zZW5hdGUtcGFzc2VzLXJlc3BlY3QtZm9yLW1hcnJpYWdlLWFjdC1oZWFkcy1iYWNrLXRvLWhvdXNlLWZvci1maW5hbC12b3RlLW9iZXJnZWZlbGwtdi1ob2RnZXMtdXMtdi13aW5kc29yLXNhbWUtc2V4LW1hcnJpYWdlLWdheS1tYXJyaWFnZS1jbHViLXEtbGdidHEtcmlnaHRzLW1vcm1vbnMtZGVtb2NyYXRzLXJlcHVibGljYW5zLXJlbGlnaW91cy1saWJlcnR5LXBvbHlnYW15LWNsYXJlbmNlLXRob21hcy1zdXByZW1lLWNvdXJ00gGfAmh0dHBzOi8vYWJjbmV3czQuY29tL2FtcC9uZXdzL25hdGlvbi13b3JsZC9zZW5hdGUtcGFzc2VzLXJlc3BlY3QtZm9yLW1hcnJpYWdlLWFjdC1oZWFkcy1iYWNrLXRvLWhvdXNlLWZvci1maW5hbC12b3RlLW9iZXJnZWZlbGwtdi1ob2RnZXMtdXMtdi13aW5kc29yLXNhbWUtc2V4LW1hcnJpYWdlLWdheS1tYXJyaWFnZS1jbHViLXEtbGdidHEtcmlnaHRzLW1vcm1vbnMtZGVtb2NyYXRzLXJlcHVibGljYW5zLXJlbGlnaW91cy1saWJlcnR5LXBvbHlnYW15LWNsYXJlbmNlLXRob21hcy1zdXByZW1lLWNvdXJ0?oc=5'}, 'Seditious Conspiracy': {'https://news.google.com/__i/rss/rd/articles/CBMiYWh0dHBzOi8vZXZlcnl0aGluZ2dwLmNvbS8yMDIyLzExLzI5L29hdGgta2VlcGVycy1ib3NzLWd1aWx0eS1vZi1zZWRpdGlvdXMtY29uc3BpcmFjeS1pbi0xLTYtY2FzZS_SAQA?oc=5', 'https://news.google.com/__i/rss/rd/articles/CBMiSGh0dHBzOi8vbmV3cy55YWhvby5jb20vb2F0aC1rZWVwZXJzLXRyaWFsLXZlcmRpY3QtcmVhY2hlZC0yMTUwMTk5ODkuaHRtbNIBUGh0dHBzOi8vbmV3cy55YWhvby5jb20vYW1waHRtbC9vYXRoLWtlZXBlcnMtdHJpYWwtdmVyZGljdC1yZWFjaGVkLTIxNTAxOTk4OS5odG1s?oc=5', 'https://news.google.com/__i/rss/rd/articles/CBMipwFodHRwczovL3d3dy53ZmFhLmNvbS9hcnRpY2xlL25ld3MvbmF0aW9uYWwvb2F0aC1rZWVwZXJzLWZvdW5kZXItc3Rld2FydC1yaG9kZXMta2VsbHktbWVnZ3MtZm91bmQtZ3VpbHR5LW9mLXNlZGl0aW91cy1jb25zcGlyYWN5LzY1LWM3MmU2ODBkLWVhYTItNGM3MS04YzA0LWY0YjQxNmQ3Y2VjZNIBqwFodHRwczovL3d3dy53ZmFhLmNvbS9hbXAvYXJ0aWNsZS9uZXdzL25hdGlvbmFsL29hdGgta2VlcGVycy1mb3VuZGVyLXN0ZXdhcnQtcmhvZGVzLWtlbGx5LW1lZ2dzLWZvdW5kLWd1aWx0eS1vZi1zZWRpdGlvdXMtY29uc3BpcmFjeS82NS1jNzJlNjgwZC1lYWEyLTRjNzEtOGMwNC1mNGI0MTZkN2NlY2Q?oc=5', 'https://news.google.com/__i/rss/rd/articles/CBMic2h0dHBzOi8vd3d3LndzaXUub3JnLzIwMjItMTEtMjkvb2F0aC1rZWVwZXJzLWZvdW5kZXItaGFzLWJlZW4tY29udmljdGVkLW9mLXNlZGl0aW91cy1jb25zcGlyYWN5LWluLXRoZS1qYW4tNi1hdHRhY2vSAQA?oc=5', 'https://news.google.com/__i/rss/rd/articles/CBMicmh0dHBzOi8vd3d3LnRoZW5hdGlvbmFsLndhbGVzL25ld3MvMjMxNTg2NTgub2F0aC1rZWVwZXJzLWJvc3MtZ3VpbHR5LXNlZGl0aW91cy1jb25zcGlyYWN5LXVzLWNhcGl0b2wtaW5zdXJyZWN0aW9uL9IBAA?oc=5'}, 'VGBC': {'https://news.google.com/__i/rss/rd/articles/CBMiPWh0dHBzOi8vd3d3LmV2ZW50aHVicy5jb20vbmV3cy8yMDIyL25vdi8xNy9hcGV4LTIwMjItcmVzdWx0cy_SAQA?oc=5', 'https://news.google.com/__i/rss/rd/articles/CBMia2h0dHBzOi8vZG90ZXNwb3J0cy5jb20vZmdjL25ld3Mvc21hc2gtd29ybGQtdG91ci1jYW5jZWxlZC1hZnRlci10b3MtYmxpbmRzaWRlZC1ieS1uaW50ZW5kby1jZWFzZS1hbmQtZGVzaXN00gEA?oc=5', 'https://news.google.com/__i/rss/rd/articles/CBMiQ2h0dHBzOi8vd3d3LmV2ZW50aHVicy5jb20vbmV3cy8yMDIyL25vdi8wMy9zbWFzaC1zdW1taXQtMTQtcmVzdWx0cy_SAQA?oc=5', 'https://news.google.com/__i/rss/rd/articles/CBMiRGh0dHBzOi8vd3d3LmV2ZW50aHVicy5jb20vbmV3cy8yMDIyL2p1bC8wOC9kb3VibGUtZG93bi0yMDIyLXJlc3VsdHMv0gEA?oc=5', 'https://news.google.com/__i/rss/rd/articles/CBMiQGh0dHBzOi8vd3d3LmV2ZW50aHVicy5jb20vbmV3cy8yMDIyL29jdC8wNy9iaWctaG91c2UtMTAtcmVzdWx0cy_SAQA?oc=5'}, 'Dijak': {'https://news.google.com/__i/rss/rd/articles/CBMie2h0dHBzOi8vd3Jlc3RsaW5naGVhZGxpbmVzLmNvbS93d2Utbnh0LXByZXZpZXctZm9yLXRvbmlnaHQtZG9ub3Zhbi1kaWphay1wYW5lbC1vZi1oYWxsLW9mLWZhbWVycy10by1tYWtlLWFubm91bmNlbWVudC1tb3JlL9IBAA?oc=5', 'https://news.google.com/__i/rss/rd/articles/CBMiT2h0dHBzOi8vd3d3LmY0d29ubGluZS5jb20vbmV3cy9ueHQvZGlqYWstdG8tcmV0dXJuLXRvLWluLXJpbmctYWN0aW9uLW9uLXd3ZS1ueHTSAVRodHRwczovL3d3dy5mNHdvbmxpbmUuY29tLy5hbXAvbmV3cy9ueHQvZGlqYWstdG8tcmV0dXJuLXRvLWluLXJpbmctYWN0aW9uLW9uLXd3ZS1ueHQ?oc=5', 'https://news.google.com/__i/rss/rd/articles/CBMiYGh0dHBzOi8vbm9kcS5jb20vbmV3cy92aWRlby1kaWphay1mb3JtZXJseS10LWJhci1tYWtlcy1oaXMtb2ZmaWNpYWwtcmV0dXJuLXRvLXRoZS13d2Utbnh0LWJyYW5kL9IBAA?oc=5', 'https://news.google.com/__i/rss/rd/articles/CBMifGh0dHBzOi8vd3d3LnJpbmdzaWRlbmV3cy5jb20vMjAyMi8xMS8yOC9kaWphay1yZWFjaGVzLW91dC10by1lbG9uLW11c2stYWJvdXQtY2hhbmdpbmctaGlzLWdvZGZvcnNha2VuLXQtYmFyLW5hbWUtb24tdHdpdHRlci_SAXxodHRwczovL3d3dy5yaW5nc2lkZW5ld3MuY29tLzIwMjIvMTEvMjgvZGlqYWstcmVhY2hlcy1vdXQtdG8tZWxvbi1tdXNrLWFib3V0LWNoYW5naW5nLWhpcy1nb2Rmb3JzYWtlbi10LWJhci1uYW1lLW9uLXR3aXR0ZXIv?oc=5', 'https://news.google.com/__i/rss/rd/articles/CBMiZ2h0dHBzOi8vd3d3LmZpZ2h0ZnVsLmNvbS93cmVzdGxpbmcvYmVoaW5kLXNjZW5jZXMtbWlhLXlpbS13YXJnYW1lcy1kaWphay1jYWxscy1vdXQtZWxvbi1tdXNrLWZpZ2h0LXNpemXSAQA?oc=5'}, 'Liver King': {'https://news.google.com/__i/rss/rd/articles/CBMikQFodHRwczovL3d3dy5jbGljazJob3VzdG9uLmNvbS9mZWF0dXJlcy8yMDIyLzExLzA2L2dlb3JnZS1zdHJhaXQtbGl2ZXIta2luZy1wYXVsLXdhbGwtYW5kLW1vcmUtaW5zaWRlLXRoZS1jZWxlYi1zdHVkZGVkLW5pZ2h0LWF0LW1pbnV0ZS1tYWlkLXBhcmsv0gEA?oc=5', 'https://news.google.com/__i/rss/rd/articles/CBMifGh0dHBzOi8vd3d3LndoaXNrZXlyaWZmLmNvbS8yMDIyLzExLzI5L2xlYWtlZC1lbWFpbC1hbGxlZ2VkbHktcmV2ZWFscy10aGF0LWxpdmVyLWtpbmctc3BlbmRzLW92ZXItMTAwMDAtYS1tb250aC1vbi1zdGVyb2lkcy_SAQA?oc=5', 'https://news.google.com/__i/rss/rd/articles/CBMiN2h0dHBzOi8vdmVnbmV3cy5jb20vMjAyMi8xMS9raW5nLWNoYXJsZXMtYmFucy1mb2llLWdyYXPSAQA?oc=5', 'https://news.google.com/__i/rss/rd/articles/CBMiWWh0dHBzOi8vd3d3LnRoZWRyaXZlLmNvbS9ndWlkZXMtYW5kLWdlYXIvYmVzdC1jeWJlci1tb25kYXktcG9ydGFibGUtZ2VuZXJhdG9yLWFtYXpvbi1zYWxl0gEA?oc=5', 'https://news.google.com/__i/rss/rd/articles/CBMia2h0dHBzOi8vd3d3LmxhZGJpYmxlLmNvbS9lbnRlcnRhaW5tZW50L2hhc2J1bGxhLWlzc3VlZC1hYnNvbHV0ZWx5LXNhdmFnZS1tZXNzYWdlLXRvLXRoZS1saXZlci1raW5nLTIwMjIxMTAy0gEA?oc=5'}, 'Tua vs Herbert': {'https://news.google.com/__i/rss/rd/articles/CBMicWh0dHBzOi8vd3d3LnNwb3J0c2tlZWRhLmNvbS9uZmwvbmV3cy1kb2xwaGlucy10dWEtdGFnb3ZhaWxvYS1jaGFyZ2Vycy1qdXN0aW4taGVyYmVydC13aG8taS1zdGFydC1mYW50YXN5LWZvb3RiYWxs0gEA?oc=5', 'https://news.google.com/__i/rss/rd/articles/CBMiT2h0dHBzOi8vd3d3LnNpLmNvbS9mYW50YXN5LzIwMjIvMTEvMjMvc3RhcnQtZW0tc2l0LWVtLXdlZWstMTItcXVhcnRlcmJhY2tzLTIwMjLSAVRodHRwczovL3d3dy5zaS5jb20vLmFtcC9mYW50YXN5LzIwMjIvMTEvMjMvc3RhcnQtZW0tc2l0LWVtLXdlZWstMTItcXVhcnRlcmJhY2tzLTIwMjI?oc=5', 'https://news.google.com/__i/rss/rd/articles/CBMiiwFodHRwczovL3d3dy5sb2NhbDEwLmNvbS9zcG9ydHMvMjAyMi8xMS8zMC90dWEtdnMtaGVyYmVydC13aWxsLWJlLXBsYXllZC1pbi1mcm9udC1vZi1uYXRpb25hbC1hdWRpZW5jZS1hcy1uZmwtZmxleGVzLWRvbHBoaW5zLWNoYXJnZXJzLWdhbWUv0gEA?oc=5', 'https://news.google.com/__i/rss/rd/articles/CBMigQFodHRwczovL2NsdXRjaHBvaW50cy5jb20vZG9scGhpbnMtbmV3cy10aGUtYWJzdXJkLWpvc2gtYWxsZW4tanVzdGluLWhlcmJlcnQtc3RhdC10aGF0LXByb3Zlcy10dWEtdGFnb3ZhaWxvYS1kZXNlcnZlcy1tb3JlLXJlc3BlY3TSAQA?oc=5', 'https://news.google.com/__i/rss/rd/articles/CBMiX2h0dHBzOi8vbnlwb3N0LmNvbS8yMDIyLzEwLzMxL2VtbWFudWVsLWFjaG8tbWluYS1raW1lcy1kZWJhdGUtanVzdGluLWhlcmJlcnQtdnMtdHVhLXRhZ292YWlsb2Ev0gEA?oc=5'}, 'The Senate': {'https://news.google.com/__i/rss/rd/articles/CBMiWGh0dHBzOi8vd3ZtZXRyb25ld3MuY29tLzIwMjIvMTEvMjgvd291bGQtamltLWp1c3RpY2UtYW5kLXRoZS11LXMtc2VuYXRlLWJlLWEtZ29vZC1tYXRjaC_SAQA?oc=5', 'https://news.google.com/__i/rss/rd/articles/CBMia2h0dHBzOi8vd3d3LnJldXRlcnMuY29tL3RlY2hub2xvZ3kvdXMtc2VuYXRlLWV5ZXMtdGlnaHRlbmVkLXJlc3RyaWN0aW9ucy1jaGluZXNlLXNlbWljb25kdWN0b3JzLTIwMjItMTEtMjgv0gEA?oc=5', 'https://news.google.com/__i/rss/rd/articles/CBMiUWh0dHBzOi8vd3d3Lm55dGltZXMuY29tLzIwMjIvMTEvMjkvdXMvcG9saXRpY3Mvc2FtZS1zZXgtbWFycmlhZ2UtYmlsbC1zZW5hdGUuaHRtbNIBAA?oc=5', 'https://news.google.com/__i/rss/rd/articles/CBMiamh0dHBzOi8vd3d3LndoaXRlaG91c2UuZ292L2JyaWVmaW5nLXJvb20vc3RhdGVtZW50cy1yZWxlYXNlcy8yMDIyLzExLzI5L25vbWluYXRpb25zLXNlbnQtdG8tdGhlLXNlbmF0ZS04OS_SAQA?oc=5', 'https://news.google.com/__i/rss/rd/articles/CBMiUWh0dHBzOi8vbmV3cy5oYXJ2YXJkLmVkdS9nYXpldHRlL3N0b3J5LzIwMjIvMTEvY2hhbmdlLXRoZS1zZW5hdGUtdmlja2ktYy1qYWNrc29uL9IBAA?oc=5'}, 'Rainbow Road': {'https://news.google.com/__i/rss/rd/articles/CBMiVGh0dHBzOi8vaGF3YWlpYXRobGV0aWNzLmNvbS9uZXdzLzIwMjIvMTEvMjgvZ2VuZXJhbC1yYWluYm93LXJvdW5kdXAtbm92LTI4LTIwMjIuYXNweNIBAA?oc=5', 'https://news.google.com/__i/rss/rd/articles/CBMirgFodHRwczovL3d3dy5sYXRlc3RseS5jb20vc29jaWFsbHkvZW50ZXJ0YWlubWVudC9ob2xseXdvb2QvdGhlLWdhbmctd2lsbC1yYWNlLWRvd24tbWFyaW8ta2FydHMtcmFpbmJvdy1yb2FkLWluLXN1cGVybWFyaW9icm9zbW92aWUtbGF0ZXN0LXR3ZWV0LWJ5LXJvdHRlbi10b21hdG9lcy00NTIzNTc4Lmh0bWzSAbIBaHR0cHM6Ly93d3cubGF0ZXN0bHkuY29tL3NvY2lhbGx5L2VudGVydGFpbm1lbnQvaG9sbHl3b29kL3RoZS1nYW5nLXdpbGwtcmFjZS1kb3duLW1hcmlvLWthcnRzLXJhaW5ib3ctcm9hZC1pbi1zdXBlcm1hcmlvYnJvc21vdmllLWxhdGVzdC10d2VldC1ieS1yb3R0ZW4tdG9tYXRvZXMtNDUyMzU3OC5odG1sL2FtcA?oc=5', 'https://news.google.com/__i/rss/rd/articles/CBMibGh0dHBzOi8vd3d3LmVuZ2FkZ2V0LmNvbS9zZWNvbmQtc3VwZXItbWFyaW8tYnJvcy10cmFpbGVyLXJldmVhbHMtZG9ua2V5LWtvbmctYW5kLXJhaW5ib3ctcm9hZC0yMjMxNDczMjYuaHRtbNIBAA?oc=5', 'https://news.google.com/__i/rss/rd/articles/CBMiW2h0dHBzOi8vd3d3LnBvbHlnb24uY29tLzIzNDcxMDkxL21hcmlvLWthcnQtOC1zd2l0Y2gtZGxjLXdhdmUtMy1yYWluYm93LXJvYWQtM2RzLW5ldy10cmFja3PSAQA?oc=5', 'https://news.google.com/__i/rss/rd/articles/CBMiPmh0dHBzOi8vd3d3LnRoZWdhbWVyLmNvbS9iaWdnZXN0LWdhbWluZy1uZXdzLW5vdmVtYmVyLTI5LTIwMjIv0gEA?oc=5'}, 'Calipari': {'https://news.google.com/__i/rss/rd/articles/CBMiX2h0dHBzOi8vd3d3LmtlbnR1Y2t5LmNvbS9zcG9ydHMvY29sbGVnZS9rZW50dWNreS1zcG9ydHMvdWstYmFza2V0YmFsbC1tZW4vYXJ0aWNsZTI2OTI0NzMyNy5odG1s0gEA?oc=5', 'https://news.google.com/__i/rss/rd/articles/CBMieGh0dHBzOi8vd3d3LmFzZWFvZmJsdWUuY29tLzIwMjIvMTEvMjQvMjM0NzU5MTUvam9obi1jYWxpcGFyaS11ay13aWxkY2F0cy1yZWNhcC13aW4tbm9ydGgtZmxvcmlkYS1jb2xsZWdlLWJhc2tldGJhbGwtbmV3c9IBAA?oc=5', 'https://news.google.com/__i/rss/rd/articles/CBMimgFodHRwczovL3d3dy5jYnNzcG9ydHMuY29tL2NvbGxlZ2UtYmFza2V0YmFsbC9uZXdzL3dpdGgtbW9yZS1wcmVzc3VyZS1vbi1oaW0tdGhhbi1ldmVyLWJlZm9yZS1hdC1rZW50dWNreS1qb2huLWNhbGlwYXJpcy1mb3JjZWQtdG8tZmlndXJlLWEtd2F5LW91dC1hbmQtdXAv0gEA?oc=5', 'https://news.google.com/__i/rss/rd/articles/CBMiaWh0dHBzOi8vd3d3Lm9uMy5jb20vdGVhbXMva2VudHVja3ktd2lsZGNhdHMvbmV3cy9qb2huLWNhbGlwYXJpLXNheXMta2VudHVja3ktc3BlbnQtYS1kYXktd29ya2luZy1vbi16b25lL9IBAA?oc=5', 'https://news.google.com/__i/rss/rd/articles/CBMidmh0dHBzOi8vd3d3LmZveG5ld3MuY29tL3Nwb3J0cy9rZW50dWNreXMtam9obi1jYWxpcGFyaS10cmllcy10ZW1wZXItZWFybHktc2Vhc29uLWV4cGVjdGF0aW9ucy13ZS1jb3VsZC1iZS1saXR0bGUtc2hha3nSAQA?oc=5'}, 'Joe Girard': {'https://news.google.com/__i/rss/rd/articles/CBMihQFodHRwczovL3d3dy5zeXJhY3VzZS5jb20vb3JhbmdlYmFza2V0YmFsbC8yMDIyLzExL3N5cmFjdXNlLWNvYWNoLWppbS1ib2VoZWltLW9uLWpvZS1naXJhcmRzLXNob290aW5nLXNsdW1wLW5vLWV4cGxhbmF0aW9uLWZvci1pdC5odG1s0gEA?oc=5', 'https://news.google.com/__i/rss/rd/articles/CBMilQFodHRwczovL3d3dy5zeXJhY3VzZS5jb20vb3JhbmdlYmFza2V0YmFsbC8yMDIyLzExL2dsZW5zLWZhbGxzLXNoYXBlZC1qb2UtZ2lyYXJkLWFuZC1hbm9pbnRlZC1oaW0tYS1sZWdlbmQtbm93LWhlcy1yZXR1cm5pbmctdG8taGlzLXNjb3Jpbmctcm9vdHMuaHRtbNIBAA?oc=5', 'https://news.google.com/__i/rss/rd/articles/CBMigAFodHRwczovL3d3dy5zeXJhY3VzZS5jb20vb3JhbmdlYmFza2V0YmFsbC8yMDIyLzExL2pvZS1naXJhcmQtZ29lcy1mb3ItYS1jYXJlZXItaGlnaC0zMS1wb2ludHMtaW4tc3lyYWN1c2Utd2luLW92ZXItcmljaG1vbmQuaHRtbNIBAA?oc=5', 'https://news.google.com/__i/rss/rd/articles/CBMiZmh0dHBzOi8vZGFpbHlvcmFuZ2UuY29tLzIwMjIvMTEvam9lLWdpcmFyZC1maW5pc2hlcy13aXRoLXNlYXNvbi1oaWdoLWluLWJsb3dvdXQtd2luLW92ZXItbm9ydGhlYXN0ZXJuL9IBAA?oc=5', 'https://news.google.com/__i/rss/rd/articles/CBMib2h0dHBzOi8vd3d3LnN5cmFjdXNlLmNvbS9vcmFuZ2ViYXNrZXRiYWxsLzIwMjIvMTEvc3lyYWN1c2UtYmFza2V0YmFsbC1hdC1uby0xNi1pbGxpbm9pcy1saXZlLXNjb3JlLXVwZGF0ZXMuaHRtbNIBAA?oc=5'}, 'Judah Mintz': {'https://news.google.com/__i/rss/rd/articles/CBMibmh0dHBzOi8vaW5zaWRldGhlbG91ZGhvdXNlLmNvbS8yMDIyLzExLzI2L3N5cmFjdXNlLWJhc2tldGJhbGwtanVkYWgtbWludHotMXN0LXJvdW5kLXBpY2stbmJhLWRyYWZ0LXByb2plY3Rpb24v0gEA?oc=5', 'https://news.google.com/__i/rss/rd/articles/CBMilAFodHRwczovL3d3dy5zeXJhY3VzZS5jb20vb3JhbmdlYmFza2V0YmFsbC8yMDIyLzExL3N5cmFjdXNlLWNvYWNoLWppbS1ib2VoZWltLW9uLWZyZXNobWFuLWd1YXJkLWp1ZGFoLW1pbnR6LXdlcmUtZm9jdXNlZC1vbi10aGUtdGhpbmdzLWhlLWNhbi1kby5odG1s0gEA?oc=5', 'https://news.google.com/__i/rss/rd/articles/CBMihAFodHRwczovL3d3dy5zeXJhY3VzZS5jb20vb3JhbmdlYmFza2V0YmFsbC8yMDIyLzExL2p1ZGFoLW1pbnR6LXBsYXllZC1oaXMtbW9zdC1jb21wbGV0ZS1nYW1lLXlldC1oZXMtanVzdC1zY3JhdGNoaW5nLXRoZS1zdXJmYWNlLmh0bWzSAQA?oc=5', 'https://news.google.com/__i/rss/rd/articles/CBMipQFodHRwczovL3d3dy5zeXJhY3VzZS5jb20vb3JhbmdlYmFza2V0YmFsbC8yMDIyLzExL3N5cmFjdXNlLWd1YXJkLWp1ZGFoLW1pbnR6LW9uLWhhdmluZy10by13YXRjaC1vcmFuZ2UtbG9zZS10by1icnlhbnQtZm9sbG93aW5nLWhpcy1lamVjdGlvbi1pdC13YXMtanVzdC1wYWluZnVsLmh0bWzSAQA?oc=5', 'https://news.google.com/__i/rss/rd/articles/CBMiRmh0dHBzOi8vd3d3LmRhaWx5b3JhbmdlLmNvbS8yMDIyLzExL2Jhc2tldGJhbGwtZ3VpZGUtMjAyMi1qdWRhaC1taW50ei_SAQA?oc=5'}, 'Shelby Miller': {'https://news.google.com/__i/rss/rd/articles/CBMiR2h0dHBzOi8vbWV0c21lcml6ZWRvbmxpbmUuY29tL21ldHMtaGF2ZS1zaG93bi1pbnRlcmVzdC1pbi10b21teS1rYWhubGUv0gEA?oc=5', 'https://news.google.com/__i/rss/rd/articles/CBMiYGh0dHBzOi8vZG9kZ2Vyc25hdGlvbi5jb20vZG9kZ2Vycy1ydW1vcnMtbGEtaGFzLWJlc3QtY2hhbmNlLXRvLXNpZ24tanVzdGluLXZlcmxhbmRlci8yMDIyLzExLzI5L9IBAA?oc=5', 'https://news.google.com/__i/rss/rd/articles/CBMiQWh0dHBzOi8vd3d3Lm1sYi5jb20vbmV3cy9vdmVybG9va2VkLWZyZWUtYWdlbnQtcmVsaWV2ZXJzLWZvci0yMDIz0gEA?oc=5', 'https://news.google.com/__i/rss/rd/articles/CBMiM2h0dHBzOi8vd3d3Lm1sYi5jb20vbmV3cy9zaGVsYnktbWlsbGVyLWRvZGdlcnMtZGVhbNIBAA?oc=5', 'https://news.google.com/__i/rss/rd/articles/CBMipgFodHRwczovL3d3dy5jdWJzaW5zaWRlci5jb20vMjAyMi8xMS8yOS90aGUtcnVuZG93bi1kb250LXN3ZWF0LWFicmV1LXNpZ25pbmctY29ycmVhLXN0aWxsLWxpbmtlZC10by1jdWJzLXZlcmxhbmRlci1tZXQtd2l0aC1kb2RnZXJzLXNoZWxieS1taWxsZXItYS1zZW1pLWhvdC1jb21tb2RpdHkv0gEA?oc=5'}, '12 Republicans': {'https://news.google.com/__i/rss/rd/articles/CBMiUmh0dHBzOi8vdWsuc3BvcnRzLnlhaG9vLmNvbS9uZXdzL3NlbmF0ZS1wYXNzZXMtcmVzcGVjdC1tYXJyaWFnZS1hY3QtMDEyNDI4MjI0Lmh0bWzSAVpodHRwczovL3VrLnNwb3J0cy55YWhvby5jb20vYW1waHRtbC9uZXdzL3NlbmF0ZS1wYXNzZXMtcmVzcGVjdC1tYXJyaWFnZS1hY3QtMDEyNDI4MjI0Lmh0bWw?oc=5', 'https://news.google.com/__i/rss/rd/articles/CBMiV2h0dHBzOi8vd3d3Lm55dGltZXMuY29tLzIwMjIvMTEvMTYvdXMvZWxlY3Rpb25zL3JlcHVibGljYW5zLXNhbWUtc2V4LW1hcnJpYWdlLXZvdGUuaHRtbNIBAA?oc=5', 'https://news.google.com/__i/rss/rd/articles/CBMiY2h0dHBzOi8vd3d3Lndhc2hpbmd0b25wb3N0LmNvbS9wb2xpdGljcy8yMDIyLzExLzE2L21jY29ubmVsbC1zY290dC1zZW5hdGUtcmVwdWJsaWNhbi1ob3VzZS1jb250cm9sL9IBAA?oc=5', 'https://news.google.com/__i/rss/rd/articles/CBMiYmh0dHBzOi8vd3d3LmFiY2FjdGlvbm5ld3MuY29tL25ld3MvbmF0aW9uYWwvc2VuYXRlLXBvaXNlZC10by1wYXNzLWJpbGwtdG8tY29kaWZ5LXNhbWUtc2V4LW1hcnJpYWdl0gFsaHR0cHM6Ly93d3cuYWJjYWN0aW9ubmV3cy5jb20vbmV3cy9uYXRpb25hbC9zZW5hdGUtcG9pc2VkLXRvLXBhc3MtYmlsbC10by1jb2RpZnktc2FtZS1zZXgtbWFycmlhZ2U_X2FtcD10cnVl?oc=5', 'https://news.google.com/__i/rss/rd/articles/CBMiZ2h0dHBzOi8vd3d3LmFkdm9jYXRlLmNvbS9wb2xpdGljcy8yMDIyLzExLzI5L3doby1hcmUtMTItcmVwdWJsaWNhbi1zZW5hdG9ycy13aG8tdm90ZWQtbWFycmlhZ2UtZXF1YWxpdHnSAQA?oc=5'}}\n"
          ]
        }
      ],
      "source": [
        "from pygooglenews import GoogleNews\n",
        "gn = GoogleNews(lang = 'en', country = 'US')\n",
        "\n",
        "newslinks = {}\n",
        "for i in lookup:\n",
        "  s = gn.search(i)\n",
        "  links = set()\n",
        "  j = 0\n",
        "  for entry in s[\"entries\"]:\n",
        "    if j <= 4:\n",
        "      links.add(entry[\"link\"])\n",
        "    j += 1\n",
        "  newslinks[i]=links\n",
        "\n",
        "print(newslinks)"
      ]
    },
    {
      "cell_type": "markdown",
      "metadata": {
        "id": "X6TJ8e69tOOj"
      },
      "source": [
        "data.csv file is going to be our main input file. It contains all the information which we derived from the news articles which are related to the top trends. The most important field for us here is the text field since that helps us to define the authenticity of the article."
      ]
    },
    {
      "cell_type": "code",
      "execution_count": null,
      "metadata": {
        "colab": {
          "base_uri": "https://localhost:8080/"
        },
        "id": "Aksjo5XyIFrA",
        "outputId": "abe4dd5a-451a-4961-8e6a-d48ba3a9ec19"
      },
      "outputs": [
        {
          "name": "stdout",
          "output_type": "stream",
          "text": [
            "unusable article found, aborting parse attempt and continuing to next article\n",
            "unusable article found, aborting parse attempt and continuing to next article\n",
            "unusable article found, aborting parse attempt and continuing to next article\n",
            "unusable article found, aborting parse attempt and continuing to next article\n",
            "unusable article found, aborting parse attempt and continuing to next article\n",
            "unusable article found, aborting parse attempt and continuing to next article\n",
            "unusable article found, aborting parse attempt and continuing to next article\n",
            "unusable article found, aborting parse attempt and continuing to next article\n",
            "unusable article found, aborting parse attempt and continuing to next article\n",
            "unusable article found, aborting parse attempt and continuing to next article\n",
            "unusable article found, aborting parse attempt and continuing to next article\n",
            "unusable article found, aborting parse attempt and continuing to next article\n",
            "unusable article found, aborting parse attempt and continuing to next article\n",
            "unusable article found, aborting parse attempt and continuing to next article\n"
          ]
        }
      ],
      "source": [
        "import newspaper\n",
        "import json\n",
        "import csv\n",
        "\n",
        "with open('data.csv', 'w', newline='') as csvfile:\n",
        "  writer = csv.writer(csvfile, delimiter=',',quotechar='\"', quoting=csv.QUOTE_MINIMAL)\n",
        "  writer.writerow(['tag','title','date','link','text','label'])\n",
        "  for key in newslinks:\n",
        "    for entry in newslinks[key]:\n",
        "      url = entry\n",
        "  \n",
        "      try:\n",
        "        article = newspaper.Article(url=url, language='en')\n",
        "        article.download()\n",
        "        article.parse()\n",
        "        \n",
        "        article ={\n",
        "            \"tag\": key,\n",
        "            \"title\": str(article.title),\n",
        "            \"text\": str(article.text),\n",
        "            \"link\": url,\n",
        "            \"date\": str(article.publish_date),\n",
        "        }\n",
        "        if article[\"text\"] != '':\n",
        "          writer.writerow([article['tag'],article['title'],article['date'],article['link'],article['text']])\n",
        "      except:\n",
        "        print('unusable article found, aborting parse attempt and continuing to next article')\n"
      ]
    },
    {
      "cell_type": "markdown",
      "metadata": {
        "id": "-FwngEs8yiUc"
      },
      "source": [
        "**3. News Text Authentication using Machine Learning**\n",
        "After we are done with transforming and cleaning the data for the ML code, we start by training the algorithm. We do this by using 2 authenticated flat files available online. \n",
        "\n",
        "To download the 2 flat files, we download the zip file using the below given code:"
      ]
    },
    {
      "cell_type": "code",
      "execution_count": null,
      "metadata": {
        "colab": {
          "base_uri": "https://localhost:8080/"
        },
        "id": "0G7zOK6L2ab4",
        "outputId": "a5dee7ff-ba05-47c3-e208-adb0f1db9cc1"
      },
      "outputs": [
        {
          "name": "stdout",
          "output_type": "stream",
          "text": [
            "/usr/local/lib/python3.7/dist-packages/gdown/cli.py:131: FutureWarning: Option `--id` was deprecated in version 4.3.1 and will be removed in 5.0. You don't need to pass it anymore to use a file ID.\n",
            "  category=FutureWarning,\n",
            "Downloading...\n",
            "From: https://drive.google.com/uc?id=1nynHsLl_i-AtKGgChKHVrMGETOmlT4VU\n",
            "To: /content/True.csv\n",
            "100% 53.6M/53.6M [00:00<00:00, 197MB/s]\n",
            "/usr/local/lib/python3.7/dist-packages/gdown/cli.py:131: FutureWarning: Option `--id` was deprecated in version 4.3.1 and will be removed in 5.0. You don't need to pass it anymore to use a file ID.\n",
            "  category=FutureWarning,\n",
            "Downloading...\n",
            "From: https://drive.google.com/uc?id=1o4sLlG42jUBevMb7g_VFNf9R-OYdExD_\n",
            "To: /content/Fake.csv\n",
            "100% 62.8M/62.8M [00:00<00:00, 68.8MB/s]\n"
          ]
        }
      ],
      "source": [
        "!gdown --id 1nynHsLl_i-AtKGgChKHVrMGETOmlT4VU\n",
        "!gdown --id 1o4sLlG42jUBevMb7g_VFNf9R-OYdExD_\n"
      ]
    },
    {
      "cell_type": "markdown",
      "metadata": {
        "id": "1RO8laFI85qV"
      },
      "source": [
        "For data manipulation and dataframe formulation, we use the pandas library. We are then going to consolidate a portion of both files inside of a frame along with a boolean label. So ultimately we end up with a dataset of 10,000 records which is labeled to predict the record's accuracy."
      ]
    },
    {
      "cell_type": "code",
      "execution_count": null,
      "metadata": {
        "colab": {
          "base_uri": "https://localhost:8080/",
          "height": 143
        },
        "id": "zk10oiIRitCy",
        "outputId": "634fe7a9-2715-4b21-bd43-6f8bb322e0c8"
      },
      "outputs": [
        {
          "data": {
            "text/html": [
              "\n",
              "  <div id=\"df-28e8b869-9f99-4796-9965-52825d96ada7\">\n",
              "    <div class=\"colab-df-container\">\n",
              "      <div>\n",
              "<style scoped>\n",
              "    .dataframe tbody tr th:only-of-type {\n",
              "        vertical-align: middle;\n",
              "    }\n",
              "\n",
              "    .dataframe tbody tr th {\n",
              "        vertical-align: top;\n",
              "    }\n",
              "\n",
              "    .dataframe thead th {\n",
              "        text-align: right;\n",
              "    }\n",
              "</style>\n",
              "<table border=\"1\" class=\"dataframe\">\n",
              "  <thead>\n",
              "    <tr style=\"text-align: right;\">\n",
              "      <th></th>\n",
              "      <th>title</th>\n",
              "      <th>text</th>\n",
              "      <th>subject</th>\n",
              "      <th>date</th>\n",
              "    </tr>\n",
              "  </thead>\n",
              "  <tbody>\n",
              "    <tr>\n",
              "      <th>0</th>\n",
              "      <td>As U.S. budget fight looms, Republicans flip t...</td>\n",
              "      <td>WASHINGTON (Reuters) - The head of a conservat...</td>\n",
              "      <td>politicsNews</td>\n",
              "      <td>December 31, 2017</td>\n",
              "    </tr>\n",
              "    <tr>\n",
              "      <th>1</th>\n",
              "      <td>U.S. military to accept transgender recruits o...</td>\n",
              "      <td>WASHINGTON (Reuters) - Transgender people will...</td>\n",
              "      <td>politicsNews</td>\n",
              "      <td>December 29, 2017</td>\n",
              "    </tr>\n",
              "    <tr>\n",
              "      <th>2</th>\n",
              "      <td>Senior U.S. Republican senator: 'Let Mr. Muell...</td>\n",
              "      <td>WASHINGTON (Reuters) - The special counsel inv...</td>\n",
              "      <td>politicsNews</td>\n",
              "      <td>December 31, 2017</td>\n",
              "    </tr>\n",
              "  </tbody>\n",
              "</table>\n",
              "</div>\n",
              "      <button class=\"colab-df-convert\" onclick=\"convertToInteractive('df-28e8b869-9f99-4796-9965-52825d96ada7')\"\n",
              "              title=\"Convert this dataframe to an interactive table.\"\n",
              "              style=\"display:none;\">\n",
              "        \n",
              "  <svg xmlns=\"http://www.w3.org/2000/svg\" height=\"24px\"viewBox=\"0 0 24 24\"\n",
              "       width=\"24px\">\n",
              "    <path d=\"M0 0h24v24H0V0z\" fill=\"none\"/>\n",
              "    <path d=\"M18.56 5.44l.94 2.06.94-2.06 2.06-.94-2.06-.94-.94-2.06-.94 2.06-2.06.94zm-11 1L8.5 8.5l.94-2.06 2.06-.94-2.06-.94L8.5 2.5l-.94 2.06-2.06.94zm10 10l.94 2.06.94-2.06 2.06-.94-2.06-.94-.94-2.06-.94 2.06-2.06.94z\"/><path d=\"M17.41 7.96l-1.37-1.37c-.4-.4-.92-.59-1.43-.59-.52 0-1.04.2-1.43.59L10.3 9.45l-7.72 7.72c-.78.78-.78 2.05 0 2.83L4 21.41c.39.39.9.59 1.41.59.51 0 1.02-.2 1.41-.59l7.78-7.78 2.81-2.81c.8-.78.8-2.07 0-2.86zM5.41 20L4 18.59l7.72-7.72 1.47 1.35L5.41 20z\"/>\n",
              "  </svg>\n",
              "      </button>\n",
              "      \n",
              "  <style>\n",
              "    .colab-df-container {\n",
              "      display:flex;\n",
              "      flex-wrap:wrap;\n",
              "      gap: 12px;\n",
              "    }\n",
              "\n",
              "    .colab-df-convert {\n",
              "      background-color: #E8F0FE;\n",
              "      border: none;\n",
              "      border-radius: 50%;\n",
              "      cursor: pointer;\n",
              "      display: none;\n",
              "      fill: #1967D2;\n",
              "      height: 32px;\n",
              "      padding: 0 0 0 0;\n",
              "      width: 32px;\n",
              "    }\n",
              "\n",
              "    .colab-df-convert:hover {\n",
              "      background-color: #E2EBFA;\n",
              "      box-shadow: 0px 1px 2px rgba(60, 64, 67, 0.3), 0px 1px 3px 1px rgba(60, 64, 67, 0.15);\n",
              "      fill: #174EA6;\n",
              "    }\n",
              "\n",
              "    [theme=dark] .colab-df-convert {\n",
              "      background-color: #3B4455;\n",
              "      fill: #D2E3FC;\n",
              "    }\n",
              "\n",
              "    [theme=dark] .colab-df-convert:hover {\n",
              "      background-color: #434B5C;\n",
              "      box-shadow: 0px 1px 3px 1px rgba(0, 0, 0, 0.15);\n",
              "      filter: drop-shadow(0px 1px 2px rgba(0, 0, 0, 0.3));\n",
              "      fill: #FFFFFF;\n",
              "    }\n",
              "  </style>\n",
              "\n",
              "      <script>\n",
              "        const buttonEl =\n",
              "          document.querySelector('#df-28e8b869-9f99-4796-9965-52825d96ada7 button.colab-df-convert');\n",
              "        buttonEl.style.display =\n",
              "          google.colab.kernel.accessAllowed ? 'block' : 'none';\n",
              "\n",
              "        async function convertToInteractive(key) {\n",
              "          const element = document.querySelector('#df-28e8b869-9f99-4796-9965-52825d96ada7');\n",
              "          const dataTable =\n",
              "            await google.colab.kernel.invokeFunction('convertToInteractive',\n",
              "                                                     [key], {});\n",
              "          if (!dataTable) return;\n",
              "\n",
              "          const docLinkHtml = 'Like what you see? Visit the ' +\n",
              "            '<a target=\"_blank\" href=https://colab.research.google.com/notebooks/data_table.ipynb>data table notebook</a>'\n",
              "            + ' to learn more about interactive tables.';\n",
              "          element.innerHTML = '';\n",
              "          dataTable['output_type'] = 'display_data';\n",
              "          await google.colab.output.renderOutput(dataTable, element);\n",
              "          const docLink = document.createElement('div');\n",
              "          docLink.innerHTML = docLinkHtml;\n",
              "          element.appendChild(docLink);\n",
              "        }\n",
              "      </script>\n",
              "    </div>\n",
              "  </div>\n",
              "  "
            ],
            "text/plain": [
              "                                               title  \\\n",
              "0  As U.S. budget fight looms, Republicans flip t...   \n",
              "1  U.S. military to accept transgender recruits o...   \n",
              "2  Senior U.S. Republican senator: 'Let Mr. Muell...   \n",
              "\n",
              "                                                text       subject  \\\n",
              "0  WASHINGTON (Reuters) - The head of a conservat...  politicsNews   \n",
              "1  WASHINGTON (Reuters) - Transgender people will...  politicsNews   \n",
              "2  WASHINGTON (Reuters) - The special counsel inv...  politicsNews   \n",
              "\n",
              "                 date  \n",
              "0  December 31, 2017   \n",
              "1  December 29, 2017   \n",
              "2  December 31, 2017   "
            ]
          },
          "execution_count": 6,
          "metadata": {},
          "output_type": "execute_result"
        }
      ],
      "source": [
        "import pandas as pd\n",
        "\n",
        "true = pd.read_csv('True.csv')\n",
        "fake = pd.read_csv('Fake.csv')\n",
        "true.head(3)"
      ]
    },
    {
      "cell_type": "code",
      "execution_count": null,
      "metadata": {
        "colab": {
          "base_uri": "https://localhost:8080/",
          "height": 206
        },
        "id": "HCCS6x7sjO9b",
        "outputId": "a87d9892-f161-4dbb-e9fa-cd61ba28e064"
      },
      "outputs": [
        {
          "data": {
            "text/html": [
              "\n",
              "  <div id=\"df-0e9147ee-608b-4c52-add4-68db961743c8\">\n",
              "    <div class=\"colab-df-container\">\n",
              "      <div>\n",
              "<style scoped>\n",
              "    .dataframe tbody tr th:only-of-type {\n",
              "        vertical-align: middle;\n",
              "    }\n",
              "\n",
              "    .dataframe tbody tr th {\n",
              "        vertical-align: top;\n",
              "    }\n",
              "\n",
              "    .dataframe thead th {\n",
              "        text-align: right;\n",
              "    }\n",
              "</style>\n",
              "<table border=\"1\" class=\"dataframe\">\n",
              "  <thead>\n",
              "    <tr style=\"text-align: right;\">\n",
              "      <th></th>\n",
              "      <th>title</th>\n",
              "      <th>text</th>\n",
              "      <th>subject</th>\n",
              "      <th>date</th>\n",
              "      <th>label</th>\n",
              "    </tr>\n",
              "  </thead>\n",
              "  <tbody>\n",
              "    <tr>\n",
              "      <th>4996</th>\n",
              "      <td>Justice Department Announces It Will No Longe...</td>\n",
              "      <td>Republicans are about to lose a huge source of...</td>\n",
              "      <td>News</td>\n",
              "      <td>August 18, 2016</td>\n",
              "      <td>0</td>\n",
              "    </tr>\n",
              "    <tr>\n",
              "      <th>4997</th>\n",
              "      <td>WATCH: S.E. Cupp Destroys Trump Adviser’s ‘Fa...</td>\n",
              "      <td>A pawn working for Donald Trump claimed that w...</td>\n",
              "      <td>News</td>\n",
              "      <td>August 18, 2016</td>\n",
              "      <td>0</td>\n",
              "    </tr>\n",
              "    <tr>\n",
              "      <th>4998</th>\n",
              "      <td>WATCH: Fox Hosts Claim Hillary Has Brain Dama...</td>\n",
              "      <td>Fox News is desperate to sabotage Hillary Clin...</td>\n",
              "      <td>News</td>\n",
              "      <td>August 18, 2016</td>\n",
              "      <td>0</td>\n",
              "    </tr>\n",
              "    <tr>\n",
              "      <th>4999</th>\n",
              "      <td>CNN Panelist LAUGHS In Corey Lewandowski’s Fa...</td>\n",
              "      <td>As Donald Trump s campaign continues to sink d...</td>\n",
              "      <td>News</td>\n",
              "      <td>August 18, 2016</td>\n",
              "      <td>0</td>\n",
              "    </tr>\n",
              "    <tr>\n",
              "      <th>5000</th>\n",
              "      <td>Trump Supporter Who Wants To Shoot Black Kids...</td>\n",
              "      <td>Hi folks, John Harper here, at least if you as...</td>\n",
              "      <td>News</td>\n",
              "      <td>August 18, 2016</td>\n",
              "      <td>0</td>\n",
              "    </tr>\n",
              "  </tbody>\n",
              "</table>\n",
              "</div>\n",
              "      <button class=\"colab-df-convert\" onclick=\"convertToInteractive('df-0e9147ee-608b-4c52-add4-68db961743c8')\"\n",
              "              title=\"Convert this dataframe to an interactive table.\"\n",
              "              style=\"display:none;\">\n",
              "        \n",
              "  <svg xmlns=\"http://www.w3.org/2000/svg\" height=\"24px\"viewBox=\"0 0 24 24\"\n",
              "       width=\"24px\">\n",
              "    <path d=\"M0 0h24v24H0V0z\" fill=\"none\"/>\n",
              "    <path d=\"M18.56 5.44l.94 2.06.94-2.06 2.06-.94-2.06-.94-.94-2.06-.94 2.06-2.06.94zm-11 1L8.5 8.5l.94-2.06 2.06-.94-2.06-.94L8.5 2.5l-.94 2.06-2.06.94zm10 10l.94 2.06.94-2.06 2.06-.94-2.06-.94-.94-2.06-.94 2.06-2.06.94z\"/><path d=\"M17.41 7.96l-1.37-1.37c-.4-.4-.92-.59-1.43-.59-.52 0-1.04.2-1.43.59L10.3 9.45l-7.72 7.72c-.78.78-.78 2.05 0 2.83L4 21.41c.39.39.9.59 1.41.59.51 0 1.02-.2 1.41-.59l7.78-7.78 2.81-2.81c.8-.78.8-2.07 0-2.86zM5.41 20L4 18.59l7.72-7.72 1.47 1.35L5.41 20z\"/>\n",
              "  </svg>\n",
              "      </button>\n",
              "      \n",
              "  <style>\n",
              "    .colab-df-container {\n",
              "      display:flex;\n",
              "      flex-wrap:wrap;\n",
              "      gap: 12px;\n",
              "    }\n",
              "\n",
              "    .colab-df-convert {\n",
              "      background-color: #E8F0FE;\n",
              "      border: none;\n",
              "      border-radius: 50%;\n",
              "      cursor: pointer;\n",
              "      display: none;\n",
              "      fill: #1967D2;\n",
              "      height: 32px;\n",
              "      padding: 0 0 0 0;\n",
              "      width: 32px;\n",
              "    }\n",
              "\n",
              "    .colab-df-convert:hover {\n",
              "      background-color: #E2EBFA;\n",
              "      box-shadow: 0px 1px 2px rgba(60, 64, 67, 0.3), 0px 1px 3px 1px rgba(60, 64, 67, 0.15);\n",
              "      fill: #174EA6;\n",
              "    }\n",
              "\n",
              "    [theme=dark] .colab-df-convert {\n",
              "      background-color: #3B4455;\n",
              "      fill: #D2E3FC;\n",
              "    }\n",
              "\n",
              "    [theme=dark] .colab-df-convert:hover {\n",
              "      background-color: #434B5C;\n",
              "      box-shadow: 0px 1px 3px 1px rgba(0, 0, 0, 0.15);\n",
              "      filter: drop-shadow(0px 1px 2px rgba(0, 0, 0, 0.3));\n",
              "      fill: #FFFFFF;\n",
              "    }\n",
              "  </style>\n",
              "\n",
              "      <script>\n",
              "        const buttonEl =\n",
              "          document.querySelector('#df-0e9147ee-608b-4c52-add4-68db961743c8 button.colab-df-convert');\n",
              "        buttonEl.style.display =\n",
              "          google.colab.kernel.accessAllowed ? 'block' : 'none';\n",
              "\n",
              "        async function convertToInteractive(key) {\n",
              "          const element = document.querySelector('#df-0e9147ee-608b-4c52-add4-68db961743c8');\n",
              "          const dataTable =\n",
              "            await google.colab.kernel.invokeFunction('convertToInteractive',\n",
              "                                                     [key], {});\n",
              "          if (!dataTable) return;\n",
              "\n",
              "          const docLinkHtml = 'Like what you see? Visit the ' +\n",
              "            '<a target=\"_blank\" href=https://colab.research.google.com/notebooks/data_table.ipynb>data table notebook</a>'\n",
              "            + ' to learn more about interactive tables.';\n",
              "          element.innerHTML = '';\n",
              "          dataTable['output_type'] = 'display_data';\n",
              "          await google.colab.output.renderOutput(dataTable, element);\n",
              "          const docLink = document.createElement('div');\n",
              "          docLink.innerHTML = docLinkHtml;\n",
              "          element.appendChild(docLink);\n",
              "        }\n",
              "      </script>\n",
              "    </div>\n",
              "  </div>\n",
              "  "
            ],
            "text/plain": [
              "                                                  title  \\\n",
              "4996   Justice Department Announces It Will No Longe...   \n",
              "4997   WATCH: S.E. Cupp Destroys Trump Adviser’s ‘Fa...   \n",
              "4998   WATCH: Fox Hosts Claim Hillary Has Brain Dama...   \n",
              "4999   CNN Panelist LAUGHS In Corey Lewandowski’s Fa...   \n",
              "5000   Trump Supporter Who Wants To Shoot Black Kids...   \n",
              "\n",
              "                                                   text subject  \\\n",
              "4996  Republicans are about to lose a huge source of...    News   \n",
              "4997  A pawn working for Donald Trump claimed that w...    News   \n",
              "4998  Fox News is desperate to sabotage Hillary Clin...    News   \n",
              "4999  As Donald Trump s campaign continues to sink d...    News   \n",
              "5000  Hi folks, John Harper here, at least if you as...    News   \n",
              "\n",
              "                 date  label  \n",
              "4996  August 18, 2016      0  \n",
              "4997  August 18, 2016      0  \n",
              "4998  August 18, 2016      0  \n",
              "4999  August 18, 2016      0  \n",
              "5000  August 18, 2016      0  "
            ]
          },
          "execution_count": 8,
          "metadata": {},
          "output_type": "execute_result"
        }
      ],
      "source": [
        "true['label'] = 1\n",
        "fake['label'] = 0\n",
        "\n",
        "# Combine the sub-datasets in one.\n",
        "frames = [true.loc[:5000][:], fake.loc[:5000][:]]\n",
        "df = pd.concat(frames)\n",
        "df.tail()"
      ]
    },
    {
      "cell_type": "markdown",
      "metadata": {
        "id": "_EsP_NhhqsKo"
      },
      "source": [
        "The PassiveAggresive Classifier does not accept null values as input, so we clean the records we feed to the model by removing it and reordering the dataframe for clarity."
      ]
    },
    {
      "cell_type": "code",
      "execution_count": null,
      "metadata": {
        "id": "08siIV38jThW"
      },
      "outputs": [],
      "source": [
        "X = df.drop('label', axis=1) \n",
        "y = df['label']\n",
        "# Delete missing data\n",
        "df = df.dropna()\n",
        "df2 = df.copy()\n",
        "df2.reset_index(inplace=True)"
      ]
    },
    {
      "cell_type": "code",
      "execution_count": null,
      "metadata": {
        "colab": {
          "base_uri": "https://localhost:8080/"
        },
        "id": "8m3mTKzAigbW",
        "outputId": "3618b75f-69ea-4de5-bf30-cc5bd682452d"
      },
      "outputs": [
        {
          "name": "stderr",
          "output_type": "stream",
          "text": [
            "[nltk_data] Downloading package stopwords to /root/nltk_data...\n",
            "[nltk_data]   Unzipping corpora/stopwords.zip.\n"
          ]
        }
      ],
      "source": [
        "from nltk.corpus import stopwords\n",
        "from nltk.stem.porter import PorterStemmer\n",
        "import re\n",
        "import nltk\n",
        "nltk.download('stopwords')\n",
        "ps = PorterStemmer()\n",
        "corpus = []\n",
        "for i in range(0, len(df2)):\n",
        "    review = re.sub('[^a-zA-Z]', ' ', df2['text'][i])\n",
        "    review = review.lower()\n",
        "    review = review.split()\n",
        "    \n",
        "    review = [ps.stem(word) for word in review if not word in stopwords.words('english')]\n",
        "    review = ' '.join(review)\n",
        "    corpus.append(review)"
      ]
    },
    {
      "cell_type": "code",
      "execution_count": null,
      "metadata": {
        "id": "DPnD0RolmL49"
      },
      "outputs": [],
      "source": [
        "from sklearn.feature_extraction.text import TfidfVectorizer\n",
        "tfidf_v = TfidfVectorizer(max_features=5000, ngram_range=(1,3))\n",
        "X = tfidf_v.fit_transform(corpus).toarray()\n",
        "y = df2['label']"
      ]
    },
    {
      "cell_type": "code",
      "execution_count": null,
      "metadata": {
        "id": "JKXOvdAKmacG"
      },
      "outputs": [],
      "source": [
        "from sklearn.model_selection import train_test_split\n",
        "X_train, X_test, y_train, y_test = train_test_split(X, y, test_size=0.2, random_state=0)"
      ]
    },
    {
      "cell_type": "markdown",
      "metadata": {
        "id": "a4_n-wUdqnCm"
      },
      "source": [
        "We test out the accuracy of the trained model in hand from a test value derived from the flat files which we had initially. Since we got an accuracy of 99%, we can then move forward and use it for getting a valid result."
      ]
    },
    {
      "cell_type": "code",
      "execution_count": null,
      "metadata": {
        "colab": {
          "base_uri": "https://localhost:8080/"
        },
        "id": "RLnu1HQvmfTx",
        "outputId": "113e9adb-f27d-44bf-f97a-ef8e9c7fc53c"
      },
      "outputs": [
        {
          "name": "stdout",
          "output_type": "stream",
          "text": [
            "accuracy:   0.999\n"
          ]
        }
      ],
      "source": [
        "from sklearn.linear_model import PassiveAggressiveClassifier\n",
        "from sklearn import metrics\n",
        "import numpy as np\n",
        "import itertools\n",
        "classifier = PassiveAggressiveClassifier(max_iter=1000)\n",
        "classifier.fit(X_train, y_train)\n",
        "pred = classifier.predict(X_test)\n",
        "score = metrics.accuracy_score(y_test, pred)\n",
        "print(\"accuracy:   %0.3f\" % score)"
      ]
    },
    {
      "cell_type": "markdown",
      "metadata": {
        "id": "C1fS0-W8pwRO"
      },
      "source": [
        "After loading the model and vectorizor, the code assigns a 0 or 1 to the left of a linked article, allowing the user to scroll through the list in the console to select an article of their choosing."
      ]
    },
    {
      "cell_type": "code",
      "execution_count": null,
      "metadata": {
        "colab": {
          "base_uri": "https://localhost:8080/",
          "height": 397
        },
        "id": "qyHKUSXzh2AT",
        "outputId": "0b8660e5-20e2-4993-e795-f8c2653b48df"
      },
      "outputs": [
        {
          "ename": "FileNotFoundError",
          "evalue": "ignored",
          "output_type": "error",
          "traceback": [
            "\u001b[0;31m---------------------------------------------------------------------------\u001b[0m",
            "\u001b[0;31mFileNotFoundError\u001b[0m                         Traceback (most recent call last)",
            "\u001b[0;32m<ipython-input-7-524e63145ddb>\u001b[0m in \u001b[0;36m<module>\u001b[0;34m\u001b[0m\n\u001b[1;32m      1\u001b[0m \u001b[0;31m# Tokenization\u001b[0m\u001b[0;34m\u001b[0m\u001b[0;34m\u001b[0m\u001b[0;34m\u001b[0m\u001b[0m\n\u001b[0;32m----> 2\u001b[0;31m \u001b[0mdata1\u001b[0m \u001b[0;34m=\u001b[0m \u001b[0mpd\u001b[0m\u001b[0;34m.\u001b[0m\u001b[0mread_csv\u001b[0m\u001b[0;34m(\u001b[0m\u001b[0;34m'data.csv'\u001b[0m\u001b[0;34m)\u001b[0m\u001b[0;34m\u001b[0m\u001b[0;34m\u001b[0m\u001b[0m\n\u001b[0m\u001b[1;32m      3\u001b[0m \u001b[0mx\u001b[0m \u001b[0;34m=\u001b[0m \u001b[0;36m0\u001b[0m\u001b[0;34m\u001b[0m\u001b[0;34m\u001b[0m\u001b[0m\n\u001b[1;32m      4\u001b[0m \u001b[0mnew\u001b[0m \u001b[0;34m=\u001b[0m\u001b[0;34m[\u001b[0m\u001b[0;34m]\u001b[0m\u001b[0;34m\u001b[0m\u001b[0;34m\u001b[0m\u001b[0m\n\u001b[1;32m      5\u001b[0m \u001b[0;34m\u001b[0m\u001b[0m\n",
            "\u001b[0;32m/usr/local/lib/python3.7/dist-packages/pandas/util/_decorators.py\u001b[0m in \u001b[0;36mwrapper\u001b[0;34m(*args, **kwargs)\u001b[0m\n\u001b[1;32m    309\u001b[0m                     \u001b[0mstacklevel\u001b[0m\u001b[0;34m=\u001b[0m\u001b[0mstacklevel\u001b[0m\u001b[0;34m,\u001b[0m\u001b[0;34m\u001b[0m\u001b[0;34m\u001b[0m\u001b[0m\n\u001b[1;32m    310\u001b[0m                 )\n\u001b[0;32m--> 311\u001b[0;31m             \u001b[0;32mreturn\u001b[0m \u001b[0mfunc\u001b[0m\u001b[0;34m(\u001b[0m\u001b[0;34m*\u001b[0m\u001b[0margs\u001b[0m\u001b[0;34m,\u001b[0m \u001b[0;34m**\u001b[0m\u001b[0mkwargs\u001b[0m\u001b[0;34m)\u001b[0m\u001b[0;34m\u001b[0m\u001b[0;34m\u001b[0m\u001b[0m\n\u001b[0m\u001b[1;32m    312\u001b[0m \u001b[0;34m\u001b[0m\u001b[0m\n\u001b[1;32m    313\u001b[0m         \u001b[0;32mreturn\u001b[0m \u001b[0mwrapper\u001b[0m\u001b[0;34m\u001b[0m\u001b[0;34m\u001b[0m\u001b[0m\n",
            "\u001b[0;32m/usr/local/lib/python3.7/dist-packages/pandas/io/parsers/readers.py\u001b[0m in \u001b[0;36mread_csv\u001b[0;34m(filepath_or_buffer, sep, delimiter, header, names, index_col, usecols, squeeze, prefix, mangle_dupe_cols, dtype, engine, converters, true_values, false_values, skipinitialspace, skiprows, skipfooter, nrows, na_values, keep_default_na, na_filter, verbose, skip_blank_lines, parse_dates, infer_datetime_format, keep_date_col, date_parser, dayfirst, cache_dates, iterator, chunksize, compression, thousands, decimal, lineterminator, quotechar, quoting, doublequote, escapechar, comment, encoding, encoding_errors, dialect, error_bad_lines, warn_bad_lines, on_bad_lines, delim_whitespace, low_memory, memory_map, float_precision, storage_options)\u001b[0m\n\u001b[1;32m    584\u001b[0m     \u001b[0mkwds\u001b[0m\u001b[0;34m.\u001b[0m\u001b[0mupdate\u001b[0m\u001b[0;34m(\u001b[0m\u001b[0mkwds_defaults\u001b[0m\u001b[0;34m)\u001b[0m\u001b[0;34m\u001b[0m\u001b[0;34m\u001b[0m\u001b[0m\n\u001b[1;32m    585\u001b[0m \u001b[0;34m\u001b[0m\u001b[0m\n\u001b[0;32m--> 586\u001b[0;31m     \u001b[0;32mreturn\u001b[0m \u001b[0m_read\u001b[0m\u001b[0;34m(\u001b[0m\u001b[0mfilepath_or_buffer\u001b[0m\u001b[0;34m,\u001b[0m \u001b[0mkwds\u001b[0m\u001b[0;34m)\u001b[0m\u001b[0;34m\u001b[0m\u001b[0;34m\u001b[0m\u001b[0m\n\u001b[0m\u001b[1;32m    587\u001b[0m \u001b[0;34m\u001b[0m\u001b[0m\n\u001b[1;32m    588\u001b[0m \u001b[0;34m\u001b[0m\u001b[0m\n",
            "\u001b[0;32m/usr/local/lib/python3.7/dist-packages/pandas/io/parsers/readers.py\u001b[0m in \u001b[0;36m_read\u001b[0;34m(filepath_or_buffer, kwds)\u001b[0m\n\u001b[1;32m    480\u001b[0m \u001b[0;34m\u001b[0m\u001b[0m\n\u001b[1;32m    481\u001b[0m     \u001b[0;31m# Create the parser.\u001b[0m\u001b[0;34m\u001b[0m\u001b[0;34m\u001b[0m\u001b[0;34m\u001b[0m\u001b[0m\n\u001b[0;32m--> 482\u001b[0;31m     \u001b[0mparser\u001b[0m \u001b[0;34m=\u001b[0m \u001b[0mTextFileReader\u001b[0m\u001b[0;34m(\u001b[0m\u001b[0mfilepath_or_buffer\u001b[0m\u001b[0;34m,\u001b[0m \u001b[0;34m**\u001b[0m\u001b[0mkwds\u001b[0m\u001b[0;34m)\u001b[0m\u001b[0;34m\u001b[0m\u001b[0;34m\u001b[0m\u001b[0m\n\u001b[0m\u001b[1;32m    483\u001b[0m \u001b[0;34m\u001b[0m\u001b[0m\n\u001b[1;32m    484\u001b[0m     \u001b[0;32mif\u001b[0m \u001b[0mchunksize\u001b[0m \u001b[0;32mor\u001b[0m \u001b[0miterator\u001b[0m\u001b[0;34m:\u001b[0m\u001b[0;34m\u001b[0m\u001b[0;34m\u001b[0m\u001b[0m\n",
            "\u001b[0;32m/usr/local/lib/python3.7/dist-packages/pandas/io/parsers/readers.py\u001b[0m in \u001b[0;36m__init__\u001b[0;34m(self, f, engine, **kwds)\u001b[0m\n\u001b[1;32m    809\u001b[0m             \u001b[0mself\u001b[0m\u001b[0;34m.\u001b[0m\u001b[0moptions\u001b[0m\u001b[0;34m[\u001b[0m\u001b[0;34m\"has_index_names\"\u001b[0m\u001b[0;34m]\u001b[0m \u001b[0;34m=\u001b[0m \u001b[0mkwds\u001b[0m\u001b[0;34m[\u001b[0m\u001b[0;34m\"has_index_names\"\u001b[0m\u001b[0;34m]\u001b[0m\u001b[0;34m\u001b[0m\u001b[0;34m\u001b[0m\u001b[0m\n\u001b[1;32m    810\u001b[0m \u001b[0;34m\u001b[0m\u001b[0m\n\u001b[0;32m--> 811\u001b[0;31m         \u001b[0mself\u001b[0m\u001b[0;34m.\u001b[0m\u001b[0m_engine\u001b[0m \u001b[0;34m=\u001b[0m \u001b[0mself\u001b[0m\u001b[0;34m.\u001b[0m\u001b[0m_make_engine\u001b[0m\u001b[0;34m(\u001b[0m\u001b[0mself\u001b[0m\u001b[0;34m.\u001b[0m\u001b[0mengine\u001b[0m\u001b[0;34m)\u001b[0m\u001b[0;34m\u001b[0m\u001b[0;34m\u001b[0m\u001b[0m\n\u001b[0m\u001b[1;32m    812\u001b[0m \u001b[0;34m\u001b[0m\u001b[0m\n\u001b[1;32m    813\u001b[0m     \u001b[0;32mdef\u001b[0m \u001b[0mclose\u001b[0m\u001b[0;34m(\u001b[0m\u001b[0mself\u001b[0m\u001b[0;34m)\u001b[0m\u001b[0;34m:\u001b[0m\u001b[0;34m\u001b[0m\u001b[0;34m\u001b[0m\u001b[0m\n",
            "\u001b[0;32m/usr/local/lib/python3.7/dist-packages/pandas/io/parsers/readers.py\u001b[0m in \u001b[0;36m_make_engine\u001b[0;34m(self, engine)\u001b[0m\n\u001b[1;32m   1038\u001b[0m             )\n\u001b[1;32m   1039\u001b[0m         \u001b[0;31m# error: Too many arguments for \"ParserBase\"\u001b[0m\u001b[0;34m\u001b[0m\u001b[0;34m\u001b[0m\u001b[0;34m\u001b[0m\u001b[0m\n\u001b[0;32m-> 1040\u001b[0;31m         \u001b[0;32mreturn\u001b[0m \u001b[0mmapping\u001b[0m\u001b[0;34m[\u001b[0m\u001b[0mengine\u001b[0m\u001b[0;34m]\u001b[0m\u001b[0;34m(\u001b[0m\u001b[0mself\u001b[0m\u001b[0;34m.\u001b[0m\u001b[0mf\u001b[0m\u001b[0;34m,\u001b[0m \u001b[0;34m**\u001b[0m\u001b[0mself\u001b[0m\u001b[0;34m.\u001b[0m\u001b[0moptions\u001b[0m\u001b[0;34m)\u001b[0m  \u001b[0;31m# type: ignore[call-arg]\u001b[0m\u001b[0;34m\u001b[0m\u001b[0;34m\u001b[0m\u001b[0m\n\u001b[0m\u001b[1;32m   1041\u001b[0m \u001b[0;34m\u001b[0m\u001b[0m\n\u001b[1;32m   1042\u001b[0m     \u001b[0;32mdef\u001b[0m \u001b[0m_failover_to_python\u001b[0m\u001b[0;34m(\u001b[0m\u001b[0mself\u001b[0m\u001b[0;34m)\u001b[0m\u001b[0;34m:\u001b[0m\u001b[0;34m\u001b[0m\u001b[0;34m\u001b[0m\u001b[0m\n",
            "\u001b[0;32m/usr/local/lib/python3.7/dist-packages/pandas/io/parsers/c_parser_wrapper.py\u001b[0m in \u001b[0;36m__init__\u001b[0;34m(self, src, **kwds)\u001b[0m\n\u001b[1;32m     49\u001b[0m \u001b[0;34m\u001b[0m\u001b[0m\n\u001b[1;32m     50\u001b[0m         \u001b[0;31m# open handles\u001b[0m\u001b[0;34m\u001b[0m\u001b[0;34m\u001b[0m\u001b[0;34m\u001b[0m\u001b[0m\n\u001b[0;32m---> 51\u001b[0;31m         \u001b[0mself\u001b[0m\u001b[0;34m.\u001b[0m\u001b[0m_open_handles\u001b[0m\u001b[0;34m(\u001b[0m\u001b[0msrc\u001b[0m\u001b[0;34m,\u001b[0m \u001b[0mkwds\u001b[0m\u001b[0;34m)\u001b[0m\u001b[0;34m\u001b[0m\u001b[0;34m\u001b[0m\u001b[0m\n\u001b[0m\u001b[1;32m     52\u001b[0m         \u001b[0;32massert\u001b[0m \u001b[0mself\u001b[0m\u001b[0;34m.\u001b[0m\u001b[0mhandles\u001b[0m \u001b[0;32mis\u001b[0m \u001b[0;32mnot\u001b[0m \u001b[0;32mNone\u001b[0m\u001b[0;34m\u001b[0m\u001b[0;34m\u001b[0m\u001b[0m\n\u001b[1;32m     53\u001b[0m \u001b[0;34m\u001b[0m\u001b[0m\n",
            "\u001b[0;32m/usr/local/lib/python3.7/dist-packages/pandas/io/parsers/base_parser.py\u001b[0m in \u001b[0;36m_open_handles\u001b[0;34m(self, src, kwds)\u001b[0m\n\u001b[1;32m    227\u001b[0m             \u001b[0mmemory_map\u001b[0m\u001b[0;34m=\u001b[0m\u001b[0mkwds\u001b[0m\u001b[0;34m.\u001b[0m\u001b[0mget\u001b[0m\u001b[0;34m(\u001b[0m\u001b[0;34m\"memory_map\"\u001b[0m\u001b[0;34m,\u001b[0m \u001b[0;32mFalse\u001b[0m\u001b[0;34m)\u001b[0m\u001b[0;34m,\u001b[0m\u001b[0;34m\u001b[0m\u001b[0;34m\u001b[0m\u001b[0m\n\u001b[1;32m    228\u001b[0m             \u001b[0mstorage_options\u001b[0m\u001b[0;34m=\u001b[0m\u001b[0mkwds\u001b[0m\u001b[0;34m.\u001b[0m\u001b[0mget\u001b[0m\u001b[0;34m(\u001b[0m\u001b[0;34m\"storage_options\"\u001b[0m\u001b[0;34m,\u001b[0m \u001b[0;32mNone\u001b[0m\u001b[0;34m)\u001b[0m\u001b[0;34m,\u001b[0m\u001b[0;34m\u001b[0m\u001b[0;34m\u001b[0m\u001b[0m\n\u001b[0;32m--> 229\u001b[0;31m             \u001b[0merrors\u001b[0m\u001b[0;34m=\u001b[0m\u001b[0mkwds\u001b[0m\u001b[0;34m.\u001b[0m\u001b[0mget\u001b[0m\u001b[0;34m(\u001b[0m\u001b[0;34m\"encoding_errors\"\u001b[0m\u001b[0;34m,\u001b[0m \u001b[0;34m\"strict\"\u001b[0m\u001b[0;34m)\u001b[0m\u001b[0;34m,\u001b[0m\u001b[0;34m\u001b[0m\u001b[0;34m\u001b[0m\u001b[0m\n\u001b[0m\u001b[1;32m    230\u001b[0m         )\n\u001b[1;32m    231\u001b[0m \u001b[0;34m\u001b[0m\u001b[0m\n",
            "\u001b[0;32m/usr/local/lib/python3.7/dist-packages/pandas/io/common.py\u001b[0m in \u001b[0;36mget_handle\u001b[0;34m(path_or_buf, mode, encoding, compression, memory_map, is_text, errors, storage_options)\u001b[0m\n\u001b[1;32m    705\u001b[0m                 \u001b[0mencoding\u001b[0m\u001b[0;34m=\u001b[0m\u001b[0mioargs\u001b[0m\u001b[0;34m.\u001b[0m\u001b[0mencoding\u001b[0m\u001b[0;34m,\u001b[0m\u001b[0;34m\u001b[0m\u001b[0;34m\u001b[0m\u001b[0m\n\u001b[1;32m    706\u001b[0m                 \u001b[0merrors\u001b[0m\u001b[0;34m=\u001b[0m\u001b[0merrors\u001b[0m\u001b[0;34m,\u001b[0m\u001b[0;34m\u001b[0m\u001b[0;34m\u001b[0m\u001b[0m\n\u001b[0;32m--> 707\u001b[0;31m                 \u001b[0mnewline\u001b[0m\u001b[0;34m=\u001b[0m\u001b[0;34m\"\"\u001b[0m\u001b[0;34m,\u001b[0m\u001b[0;34m\u001b[0m\u001b[0;34m\u001b[0m\u001b[0m\n\u001b[0m\u001b[1;32m    708\u001b[0m             )\n\u001b[1;32m    709\u001b[0m         \u001b[0;32melse\u001b[0m\u001b[0;34m:\u001b[0m\u001b[0;34m\u001b[0m\u001b[0;34m\u001b[0m\u001b[0m\n",
            "\u001b[0;31mFileNotFoundError\u001b[0m: [Errno 2] No such file or directory: 'data.csv'"
          ]
        }
      ],
      "source": [
        "# Tokenization\n",
        "data1 = pd.read_csv('data.csv')\n",
        "x = 0\n",
        "new =[]\n",
        "\n",
        "for x in range(len(data1['text'])):\n",
        "  review = re.sub('[^a-zA-Z]', ' ', data1['text'][x])\n",
        "  review = review.lower()\n",
        "  review = review.split() \n",
        "  review = [ps.stem(word) for word in review if not word in stopwords.words('english')]\n",
        "  review = ' '.join(review)\n",
        "  # Vectorization\n",
        "  val = tfidf_v.transform([review]).toarray()\n",
        "  # Predict \n",
        "  a = classifier.predict(val)\n",
        "  new.append(a[0])\n",
        "  print(a[0],data1['link'][x])\n",
        "\n",
        "  print(a[0])\n"
      ]
    }
  ],
  "metadata": {
    "colab": {
      "provenance": []
    },
    "kernelspec": {
      "display_name": "Python 3",
      "name": "python3"
    },
    "language_info": {
      "name": "python"
    }
  },
  "nbformat": 4,
  "nbformat_minor": 0
}